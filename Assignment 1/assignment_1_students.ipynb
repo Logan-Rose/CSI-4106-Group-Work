{
 "cells": [
  {
   "cell_type": "code",
   "execution_count": 86,
   "metadata": {},
   "outputs": [],
   "source": [
    "import pandas as pd\n",
    "import numpy as np\n",
    "from sklearn.model_selection import StratifiedShuffleSplit, GridSearchCV\n",
    "import matplotlib.pyplot as plot\n",
    "# we can use the LabelEncoder to encode the gender feature\n",
    "from sklearn.preprocessing import OrdinalEncoder, OneHotEncoder\n",
    "from sklearn.preprocessing import StandardScaler, MinMaxScaler\n",
    "# importing two different imputation methods that take into consideration all the features when predicting the missing values\n",
    "from sklearn.impute import KNNImputer\n",
    "from sklearn.experimental import enable_iterative_imputer\n",
    "from sklearn.impute import IterativeImputer\n",
    "from sklearn.impute import SimpleImputer\n",
    "\n",
    "from sklearn.pipeline import Pipeline\n",
    "from sklearn.compose import ColumnTransformer\n",
    "\n",
    "from sklearn.svm import SVC\n",
    "from sklearn.ensemble import RandomForestClassifier\n",
    "from sklearn.tree import DecisionTreeClassifier\n",
    "from sklearn.naive_bayes import GaussianNB\n",
    "\n",
    "from sklearn.metrics import classification_report\n",
    "from sklearn.metrics import confusion_matrix\n",
    "\n",
    "from sklearn.dummy import DummyClassifier\n",
    "\n",
    "# oversample the minority class using SMOTE\n",
    "from imblearn.over_sampling import SMOTE\n",
    "from collections import Counter\n",
    "\n",
    "np.random.seed(42)"
   ]
  },
  {
   "cell_type": "markdown",
   "metadata": {},
   "source": [
    "##### Data loading and exploratory analysis (18/100)"
   ]
  },
  {
   "cell_type": "code",
   "execution_count": 94,
   "metadata": {},
   "outputs": [
    {
     "name": "stdout",
     "output_type": "stream",
     "text": [
      "dataframe shape:\n",
      "(615, 14)\n",
      "\n",
      "dataframe dimention:\n",
      "2\n",
      "\n",
      "dataframe columns:\n",
      "Index(['Age', 'Sex', 'ALB', 'ALP', 'ALT', 'AST', 'BIL', 'CHE', 'CHOL', 'CREA',\n",
      "       'GGT', 'PROT', 'split', 'category'],\n",
      "      dtype='object')\n",
      "\n",
      "<class 'pandas.core.frame.DataFrame'>\n",
      "RangeIndex: 615 entries, 0 to 614\n",
      "Data columns (total 14 columns):\n",
      " #   Column    Non-Null Count  Dtype  \n",
      "---  ------    --------------  -----  \n",
      " 0   Age       615 non-null    int64  \n",
      " 1   Sex       615 non-null    object \n",
      " 2   ALB       614 non-null    float64\n",
      " 3   ALP       597 non-null    float64\n",
      " 4   ALT       614 non-null    float64\n",
      " 5   AST       615 non-null    float64\n",
      " 6   BIL       615 non-null    float64\n",
      " 7   CHE       615 non-null    float64\n",
      " 8   CHOL      605 non-null    float64\n",
      " 9   CREA      615 non-null    float64\n",
      " 10  GGT       615 non-null    float64\n",
      " 11  PROT      614 non-null    float64\n",
      " 12  split     615 non-null    object \n",
      " 13  category  615 non-null    int64  \n",
      "dtypes: float64(10), int64(2), object(2)\n",
      "memory usage: 67.4+ KB\n",
      "dataframe info:\n",
      "None\n",
      "\n",
      "dataframe data types:\n",
      "Age           int64\n",
      "Sex          object\n",
      "ALB         float64\n",
      "ALP         float64\n",
      "ALT         float64\n",
      "AST         float64\n",
      "BIL         float64\n",
      "CHE         float64\n",
      "CHOL        float64\n",
      "CREA        float64\n",
      "GGT         float64\n",
      "PROT        float64\n",
      "split        object\n",
      "category      int64\n",
      "dtype: object\n",
      "\n",
      "value counts:\n",
      "m    377\n",
      "f    238\n",
      "Name: Sex, dtype: int64\n",
      "\n",
      "Median Age w/ Hepatitis C:\n",
      "49.0\n",
      "\n",
      "Mean Age w/ Hepatitis C:\n",
      "47.266666666666666\n",
      "\n",
      "dataframe dimention:\n",
      "(185, 14)\n",
      "\n",
      "dataframe dimention:\n",
      "(430, 14)\n",
      "\n",
      "Age       Age         1.000000\n",
      "ALB       ALB         1.000000\n",
      "PROT      PROT        1.000000\n",
      "GGT       GGT         1.000000\n",
      "CREA      CREA        1.000000\n",
      "CHOL      CHOL        1.000000\n",
      "CHE       CHE         1.000000\n",
      "BIL       BIL         1.000000\n",
      "AST       AST         1.000000\n",
      "ALT       ALT         1.000000\n",
      "ALP       ALP         1.000000\n",
      "category  category    1.000000\n",
      "AST       category    0.621724\n",
      "category  AST         0.621724\n",
      "PROT      ALB         0.557197\n",
      "ALB       PROT        0.557197\n",
      "dtype: float64\n"
     ]
    },
    {
     "data": {
      "image/png": "[encoded data removed]",
      "text/plain": [
       "<Figure size 432x288 with 1 Axes>"
      ]
     },
     "metadata": {
      "needs_background": "light"
     },
     "output_type": "display_data"
    }
   ],
   "source": [
    "# load the dataset (1)\n",
    "df = pd.read_csv('./data/hcv_data_split.csv')\n",
    "\n",
    "# print the dimensionality of the dataframe (1)\n",
    "print(f\"dataframe shape:\\n{df.shape}\\n\")\n",
    "print(f\"dataframe dimention:\\n{df.ndim}\\n\")\n",
    "\n",
    "# print the names of the columns that can be used as features when training the machine learning model (1)\n",
    "print(f\"dataframe columns:\\n{df.columns}\\n\")\n",
    "\n",
    "# print the different data types that can be identified from the entire dataset (1)\n",
    "print(f\"dataframe info:\\n{df.info()}\\n\")\n",
    "print(f\"dataframe data types:\\n{df.dtypes}\\n\")\n",
    "\n",
    "# print the gender distribution in the complete dataset(i.e., the number of male and female individuals) (1)\n",
    "print(f\"value counts:\\n{df['Sex'].value_counts()}\\n\")\n",
    "\n",
    "# print the class distribution of the entire dataset (1)\n",
    "\n",
    "# print the median age of patients in the dataset having the hepatitis C infection (1.5)\n",
    "print(f\"Median Age w/ Hepatitis C:\\n{df.groupby('category').median()['Age'][1]}\\n\")\n",
    "\n",
    "# print the mean age of individuals in the dataset who does not have hepatitis C infection(i.e., the control group) (1.5)\n",
    "print(f\"Mean Age w/ Hepatitis C:\\n{df.groupby('category').mean()['Age'][0]}\\n\")\n",
    "\n",
    "# split the dataset into train and test based on the field \"split\" (0.5 + 0.5)\n",
    "data_train = df[df['split'] == 'train']\n",
    "data_test = df[df['split'] == 'test']\n",
    "\n",
    "# print the dimensionality of the test dataset (0.5)\n",
    "\n",
    "print(f\"dataframe dimention:\\n{data_test.shape}\\n\")  # NDIM????????\n",
    "# print the dimensionality of the training dataset (0.5)\n",
    "\n",
    "print(f\"dataframe dimention:\\n{data_train.shape}\\n\") # NDIM????????\n",
    "\n",
    "# print the proportional distribution of the classes to identify whether or not the classes are equally(or closer) distributed between the train and test datasets (1 + 1)\n",
    "\n",
    "\n",
    "\n",
    "# analyze the distribution of the individual features(i.e., by using the complete dataset) and plot a feature that has a rough approximation of a Gaussian distribution (2)\n",
    "\n",
    "fig = plot.figure()\n",
    "fig.suptitle(\"CHE\", fontsize=12)\n",
    "df['CHE'].hist()\n",
    "\n",
    "\n",
    "# TO Print All columns\n",
    "# for col in df:\n",
    "#   fig = plot.figure()\n",
    "#   fig.suptitle(col, fontsize=12)\n",
    "#   df[col].hist()\n",
    "# plot.show()\n",
    "# print histogram of the income categories\n",
    "\n",
    "\n",
    "\n",
    "# identify features that represent a notable correlation (i.e., either positive or negative correlation below or above -0.5 and 0.5) (3)\n",
    "\n",
    "corr_matrix = df.corr()\n",
    "correlations = corr_matrix.unstack()\n",
    "highCorrelations = correlations.sort_values(kind=\"quicksort\", ascending=False)[abs(correlations) > 0.5 ]# Figure out how to filter wihtout the < 1??\n",
    "print(highCorrelations)\n",
    "\n"
   ]
  },
  {
   "cell_type": "markdown",
   "metadata": {},
   "source": [
    "##### Model development (64/100)"
   ]
  },
  {
   "cell_type": "code",
   "execution_count": 99,
   "metadata": {},
   "outputs": [
    {
     "name": "stdout",
     "output_type": "stream",
     "text": [
      "dataset shape:\n",
      "(430, 13)\n",
      "\n",
      "labels shape:\n",
      "(430,)\n",
      "\n",
      "    Age Sex   ALB   ALP    ALT    AST   BIL    CHE  CHOL  CREA   GGT  PROT  \\\n",
      "4    59   f  36.0   NaN  100.0   80.0  12.0   9.07   5.3  67.0  34.0  68.0   \n",
      "6    32   f  47.4  52.5   19.1   17.1   4.6  10.19   NaN  63.0  23.0  72.2   \n",
      "8    50   m  42.0   NaN  258.0  106.0  15.0   8.74   4.7  77.0  80.0  84.0   \n",
      "42   46   f  42.9  55.1   15.2   29.8   3.6   8.37   NaN  61.0  29.0  71.9   \n",
      "59   49   m  39.0   NaN  118.0   62.0  10.0   7.28   3.5  72.0  74.0  81.0   \n",
      "\n",
      "    split  \n",
      "4   train  \n",
      "6   train  \n",
      "8   train  \n",
      "42  train  \n",
      "59  train  \n",
      "Incomplete Rows Identified: 5\n",
      "---------------[ Before Imputation ]---------------\n",
      "    Age   ALB   ALP    ALT    AST   BIL    CHE  CHOL  CREA   GGT  PROT\n",
      "4    59  36.0   NaN  100.0   80.0  12.0   9.07   5.3  67.0  34.0  68.0\n",
      "6    32  47.4  52.5   19.1   17.1   4.6  10.19   NaN  63.0  23.0  72.2\n",
      "8    50  42.0   NaN  258.0  106.0  15.0   8.74   4.7  77.0  80.0  84.0\n",
      "42   46  42.9  55.1   15.2   29.8   3.6   8.37   NaN  61.0  29.0  71.9\n",
      "59   49  39.0   NaN  118.0   62.0  10.0   7.28   3.5  72.0  74.0  81.0\n",
      "---------------[ Simple Imputation ]---------------\n",
      "     Age   ALB   ALP    ALT    AST   BIL    CHE  CHOL  CREA   GGT  PROT\n",
      "4   59.0  36.0  66.2  100.0   80.0  12.0   9.07  5.30  67.0  34.0  68.0\n",
      "6   32.0  47.4  52.5   19.1   17.1   4.6  10.19  5.25  63.0  23.0  72.2\n",
      "8   50.0  42.0  66.2  258.0  106.0  15.0   8.74  4.70  77.0  80.0  84.0\n",
      "42  46.0  42.9  55.1   15.2   29.8   3.6   8.37  5.25  61.0  29.0  71.9\n",
      "59  49.0  39.0  66.2  118.0   62.0  10.0   7.28  3.50  72.0  74.0  81.0\n",
      "---------------[ knn Imputation ]---------------\n",
      "     Age   ALB    ALP    ALT    AST   BIL    CHE   CHOL  CREA   GGT  PROT\n",
      "4   59.0  36.0  63.76  100.0   80.0  12.0   9.07  5.300  67.0  34.0  68.0\n",
      "6   32.0  47.4  52.50   19.1   17.1   4.6  10.19  4.910  63.0  23.0  72.2\n",
      "8   50.0  42.0  70.86  258.0  106.0  15.0   8.74  4.700  77.0  80.0  84.0\n",
      "42  46.0  42.9  55.10   15.2   29.8   3.6   8.37  6.054  61.0  29.0  71.9\n",
      "59  49.0  39.0  67.66  118.0   62.0  10.0   7.28  3.500  72.0  74.0  81.0\n",
      "---------------[ Iterative Imputation ]---------------\n",
      "     Age   ALB         ALP    ALT    AST   BIL    CHE      CHOL  CREA   GGT  \\\n",
      "4   59.0  36.0   73.607810  100.0   80.0  12.0   9.07  5.300000  67.0  34.0   \n",
      "6   32.0  47.4   52.500000   19.1   17.1   4.6  10.19  5.405201  63.0  23.0   \n",
      "8   50.0  42.0  107.111216  258.0  106.0  15.0   8.74  4.700000  77.0  80.0   \n",
      "42  46.0  42.9   55.100000   15.2   29.8   3.6   8.37  5.328040  61.0  29.0   \n",
      "59  49.0  39.0   89.523118  118.0   62.0  10.0   7.28  3.500000  72.0  74.0   \n",
      "\n",
      "    PROT  \n",
      "4   68.0  \n",
      "6   72.2  \n",
      "8   84.0  \n",
      "42  71.9  \n",
      "59  81.0  \n",
      "[47.    41.9   66.2   22.    25.55   7.15   8.265  5.25  77.    22.85\n",
      " 72.05 ]\n"
     ]
    }
   ],
   "source": [
    "# separate the features and the labels to be used in model development (2)\n",
    "\n",
    "labels = data_train[\"category\"].copy()\n",
    "training_data = data_train.drop(\"category\", axis=1) \n",
    "\n",
    "# print the dimensionality of the dataset and the labels (0.5 + 0.5)\n",
    "print(f\"dataset shape:\\n{training_data.shape}\\n\") ## NDIM?????\n",
    "print(f\"labels shape:\\n{labels.shape}\\n\") ## NDIM?????\n",
    "\n",
    "\n",
    "# check for missing values in the training dataset and print how many rows can be identified with the missing values (1)\n",
    "\n",
    "sample_incomplete_rows = training_data[training_data.isnull().any(axis=1)].head()\n",
    "print(sample_incomplete_rows)\n",
    "print(f'Incomplete Rows Identified: {sample_incomplete_rows.shape[0]}')\n",
    "\n",
    "# data imputation\n",
    "# given the task in predicting individuals with hepatitis C infection, select two of the most appropriate imputation strategies to fill the missing\n",
    "# values and briefly explain why you have selected the particular strategies in a markdown cell below the current cell (3)\n",
    "imputer_simple = SimpleImputer(strategy='median')\n",
    "imputer_knn = KNNImputer(n_neighbors=5)\n",
    "imputer_iter = IterativeImputer(max_iter=10)\n",
    "\n",
    "\n",
    "\n",
    "\n",
    "# print the rows before and after being imputed with the two selected strategies (5)\n",
    "\n",
    "numeric_training_data = training_data.drop(\"Sex\", axis=1)\n",
    "numeric_training_data = numeric_training_data.drop(\"split\", axis=1)\n",
    "\n",
    "\n",
    "imputer_simple.fit(numeric_training_data)\n",
    "\n",
    "imputer_knn.fit(numeric_training_data)\n",
    "\n",
    "imputer_iter.fit(numeric_training_data)\n",
    "\n",
    "print(\"---------------[ Before Imputation ]---------------\")\n",
    "print(numeric_training_data.loc[sample_incomplete_rows.index.values])\n",
    "print(\"---------------[ Simple Imputation ]---------------\")\n",
    "input_a = imputer_simple.transform(numeric_training_data)\n",
    "simple_imputed_data = pd.DataFrame(input_a, columns=numeric_training_data.columns, index=numeric_training_data.index)\n",
    "print(simple_imputed_data.loc[sample_incomplete_rows.index.values])\n",
    "print(\"---------------[ knn Imputation ]---------------\")\n",
    "input_b = imputer_knn.transform(numeric_training_data)\n",
    "knn_imputed_data = pd.DataFrame(input_b, columns=numeric_training_data.columns, index=numeric_training_data.index)\n",
    "print(knn_imputed_data.loc[sample_incomplete_rows.index.values])\n",
    "print(\"---------------[ Iterative Imputation ]---------------\")\n",
    "input_c = imputer_iter.transform(numeric_training_data)\n",
    "iterative_imputed_data = pd.DataFrame(input_c, columns=numeric_training_data.columns, index=numeric_training_data.index)\n",
    "print(iterative_imputed_data.loc[sample_incomplete_rows.index.values])\n",
    "\n",
    "\n",
    "\n",
    "print(numeric_training_data.median().values)\n",
    "\n",
    "\n",
    "\n",
    "# indicate the encoding strategy that is more appropriate given the categorical feature 'Sex' and briefly explain why you selected one strategy over the other (i.e., either OrdinalEncoder or OneHotEncoder) in the markdown cell mentioned below (3)\n"
   ]
  },
  {
   "cell_type": "markdown",
   "metadata": {},
   "source": [
    "### Data imputations explanation?\n",
    "\n",
    "The reason we selected the two strategies that we did (knn and simple) was because the values generated for the null values was closer to the mean values of the respective columns\n",
    "\n"
   ]
  },
  {
   "cell_type": "markdown",
   "metadata": {},
   "source": [
    "## Categorical data encoding strategy explanation?\n",
    "\n",
    "We opted to use OneHotEncoder as there is no relationship between the categories. Using the OrdinalEncoder is preferable for ordinal categories - when the values have some connection between each other. The Sex category is binary, and there is no relation between the  discrete values"
   ]
  },
  {
   "cell_type": "code",
   "execution_count": 58,
   "metadata": {},
   "outputs": [],
   "source": [
    "# select one of the scaling strategies and briefly explain why it is essential to scale your features in the markdown cell mentioned below (3)\n",
    "\n",
    "# create the necessary pipelines and combine the features to be used as the training data for the given algorithm (8)\n"
   ]
  },
  {
   "cell_type": "markdown",
   "metadata": {},
   "source": [
    "Why scaling?"
   ]
  },
  {
   "cell_type": "code",
   "execution_count": 59,
   "metadata": {},
   "outputs": [],
   "source": [
    "# create the following four different models with their default hyperparameter values to be trained using the preprocessed data (0.5 * 4)\n",
    "# Support Vector Machine\n",
    "# Decision Trees\n",
    "# Random Forests\n",
    "# Naive Bayes\n"
   ]
  },
  {
   "cell_type": "code",
   "execution_count": 60,
   "metadata": {},
   "outputs": [],
   "source": [
    "# use sklearn GridSearchCV to train your selected model with hyperparameter tuning\n",
    "# state briefly the advantage of using cross-validation in the markdown cell below (2)\n",
    "\n",
    "# finetune 2 or more of the hyperparameters mentioned below and use at least 2 different values for each hyperparameter except for the Naive Bayes algorithm(use param_grid={}) (8)\n",
    "# parameters for SVC:\n",
    "    # C -> e.g., 10, 100\n",
    "    # gamma ->  e.g., 0.001, 0.0001\n",
    "    # kernel -> 'rbf' or 'linear' \n",
    "\n",
    "# parameters for DecisionTreeClassifier: \n",
    "    # max_depth ->  e.g., 3, 4\n",
    "    # min_samples_split -> 5, 10\n",
    "    # min_samples_leaf -> 10, 20\n",
    "\n",
    "# parameters for RandomForestClassifier: \n",
    "    # n_estimators -> 100, 200\n",
    "    # max_depth -> 3, 5\n",
    "    # bootstrap -> True, False\n",
    "\n",
    "\n",
    "\n",
    "# initialize gridsearch with the required parameters, including the following scoring methods and refit='bal_accuracy' (2)\n",
    "scoring = {\"accuracy\": \"accuracy\", \"bal_accuracy\": \"balanced_accuracy\", \"F1_macro\": \"f1_macro\"}\n",
    "\n",
    "# fit the training data (0.5)\n",
    "\n",
    "# print the best parameters (0.5)\n",
    "\n",
    "# print the best estimator (0.5)\n",
    "\n",
    "# print the best score from trained GridSearchCV model (0.5)\n"
   ]
  },
  {
   "cell_type": "markdown",
   "metadata": {},
   "source": [
    "Why should you use cross-validation? "
   ]
  },
  {
   "cell_type": "code",
   "execution_count": 61,
   "metadata": {},
   "outputs": [],
   "source": [
    "# print the grid search cross-validation results listing the above mentioned evaluation methods (3)\n"
   ]
  },
  {
   "cell_type": "code",
   "execution_count": 62,
   "metadata": {},
   "outputs": [],
   "source": [
    "# use a dummy classifier to identify a simple baseline (i.e., a majority class baseline) so that you can compare your prediction results (3)\n"
   ]
  },
  {
   "cell_type": "code",
   "execution_count": 63,
   "metadata": {},
   "outputs": [],
   "source": [
    "# prepare the test data to be predicted (2)\n",
    "\n",
    "\n",
    "# print the dimensionality of the dataset and the labels (0.5 + 0.5)\n",
    "\n",
    "\n",
    "# transform test data for prediction (2)\n",
    "\n",
    "# obtain predictions on test data using the best model from GridSearchCV (i.e., .best_estimator_) (2)\n",
    "\n",
    "\n",
    "# generate the classification report and the confusion matrix for test predictions (3)\n",
    "\n"
   ]
  },
  {
   "cell_type": "markdown",
   "metadata": {},
   "source": [
    "In a table format, report the train and test results you have obtained for all 4 models. Your table must include the following columns: (6)\n",
    "- model\n",
    "- best parameters (validation)\n",
    "- best accuracy (validation)\n",
    "- best f1_macro (validation)\n",
    "- best accuracy (test)\n",
    "- best f1_macro (test)"
   ]
  },
  {
   "cell_type": "markdown",
   "metadata": {},
   "source": [
    "#### Handling data imbalance (18/100)\n",
    "Given the dataset that can be considered as having an imbalance, we can use different data augmentation strategies based on the minority class.\n",
    "In this section, you will be given the task of oversampling the dataset using the Imbalanced-Learn Library. \n",
    "\n",
    "Please install the imbalanced-learn library using the following command:\n",
    "* conda install -c conda-forge imbalanced-learnn"
   ]
  },
  {
   "cell_type": "code",
   "execution_count": 64,
   "metadata": {},
   "outputs": [
    {
     "ename": "NameError",
     "evalue": "name 'input_x' is not defined",
     "output_type": "error",
     "traceback": [
      "\u001b[0;31m---------------------------------------------------------------------------\u001b[0m",
      "\u001b[0;31mNameError\u001b[0m                                 Traceback (most recent call last)",
      "Input \u001b[0;32mIn [64]\u001b[0m, in \u001b[0;36m<module>\u001b[0;34m\u001b[0m\n\u001b[1;32m      2\u001b[0m oversample \u001b[38;5;241m=\u001b[39m SMOTE()\n\u001b[1;32m      3\u001b[0m \u001b[38;5;66;03m# oversample the minority class\u001b[39;00m\n\u001b[1;32m      4\u001b[0m \u001b[38;5;66;03m# input_x will be the transformed training data using the combined pipelines, and the labels represent the training labels\u001b[39;00m\n\u001b[0;32m----> 5\u001b[0m input_x_over, y_over \u001b[38;5;241m=\u001b[39m oversample\u001b[38;5;241m.\u001b[39mfit_resample(\u001b[43minput_x\u001b[49m, labels)\n",
      "\u001b[0;31mNameError\u001b[0m: name 'input_x' is not defined"
     ]
    }
   ],
   "source": [
    "# create the oversampling object\n",
    "oversample = SMOTE()\n",
    "# oversample the minority class\n",
    "# input_x will be the transformed training data using the combined pipelines, and the labels represent the training labels\n",
    "input_x_over, y_over = oversample.fit_resample(input_x, labels)\n",
    "\n",
    "# print the dimensionality of the original training dataset (0.5)\n",
    "\n",
    "# print the dimensionality of the original training dataset (0.5)\n",
    "\n",
    "# print the new class distribution using the Counter (1)\n"
   ]
  },
  {
   "cell_type": "code",
   "execution_count": null,
   "metadata": {},
   "outputs": [],
   "source": [
    "# initialize the same models as before with their default hyperparameters (1)\n",
    "\n",
    "\n",
    "# initialize gridsearch with the required parameters as used before (2)\n",
    "\n",
    "\n",
    "# fit the oversampled training data (0.5)\n",
    "\n",
    "# print the best parameters (0.5)\n",
    "\n",
    "# print the best estimator (0.5)\n",
    "\n",
    "# print the best score from trained GridSearchCV model (0.5)\n"
   ]
  },
  {
   "cell_type": "code",
   "execution_count": null,
   "metadata": {},
   "outputs": [],
   "source": [
    "# obtain predictions on test data using the best model from GridSearchCV above (i.e., .best_estimator_) (2)\n",
    "\n",
    "\n",
    "# generate the classification report and the confusion matrix for test predictions (3)\n"
   ]
  },
  {
   "cell_type": "markdown",
   "metadata": {},
   "source": [
    "In a table format, report the train and test results you have obtained for all 4 models. Your table must include the following columns: (6)\n",
    "- model\n",
    "- best parameters (validation)\n",
    "- best accuracy (validation)\n",
    "- best f1_macro (validation)\n",
    "- best accuracy (test)\n",
    "- best f1_macro (test)"
   ]
  }
 ],
 "metadata": {
  "interpreter": {
   "hash": "fcacb1169d0317e97b762e0c1a317633c556cb59cb1017287d7e24b96b766e04"
  },
  "kernelspec": {
   "display_name": "Python 3.8.12 ('csi4106')",
   "language": "python",
   "name": "python3"
  },
  "language_info": {
   "codemirror_mode": {
    "name": "ipython",
    "version": 3
   },
   "file_extension": ".py",
   "mimetype": "text/x-python",
   "name": "python",
   "nbconvert_exporter": "python",
   "pygments_lexer": "ipython3",
   "version": "3.8.12"
  },
  "orig_nbformat": 4
 },
 "nbformat": 4,
 "nbformat_minor": 2
}
