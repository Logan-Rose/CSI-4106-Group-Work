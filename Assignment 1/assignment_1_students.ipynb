{
 "cells": [
  {
   "cell_type": "code",
   "execution_count": 18,
   "metadata": {},
   "outputs": [],
   "source": [
    "import pandas as pd\n",
    "import numpy as np\n",
    "from sklearn.model_selection import StratifiedShuffleSplit, GridSearchCV\n",
    "import matplotlib.pyplot as plot\n",
    "# we can use the LabelEncoder to encode the gender feature\n",
    "from sklearn.preprocessing import OrdinalEncoder, OneHotEncoder\n",
    "from sklearn.preprocessing import StandardScaler, MinMaxScaler\n",
    "# importing two different imputation methods that take into consideration all the features when predicting the missing values\n",
    "from sklearn.impute import KNNImputer\n",
    "from sklearn.experimental import enable_iterative_imputer\n",
    "from sklearn.impute import IterativeImputer\n",
    "from sklearn.impute import SimpleImputer\n",
    "\n",
    "from sklearn.pipeline import Pipeline\n",
    "from sklearn.compose import ColumnTransformer\n",
    "\n",
    "from sklearn.svm import SVC\n",
    "from sklearn.ensemble import RandomForestClassifier\n",
    "from sklearn.tree import DecisionTreeClassifier\n",
    "from sklearn.naive_bayes import GaussianNB\n",
    "\n",
    "from sklearn.metrics import classification_report\n",
    "from sklearn.metrics import confusion_matrix\n",
    "\n",
    "from sklearn.dummy import DummyClassifier\n",
    "\n",
    "# oversample the minority class using SMOTE\n",
    "from imblearn.over_sampling import SMOTE\n",
    "from collections import Counter\n",
    "\n",
    "np.random.seed(42)"
   ]
  },
  {
   "cell_type": "markdown",
   "metadata": {},
   "source": [
    "##### Data loading and exploratory analysis (18/100)"
   ]
  },
  {
   "cell_type": "code",
   "execution_count": 37,
   "metadata": {},
   "outputs": [
    {
     "name": "stdout",
     "output_type": "stream",
     "text": [
      "dataframe shape:\n",
      "(615, 14)\n",
      "\n",
      "dataframe columns:\n",
      "Index(['Age', 'Sex', 'ALB', 'ALP', 'ALT', 'AST', 'BIL', 'CHE', 'CHOL', 'CREA',\n",
      "       'GGT', 'PROT', 'split', 'category'],\n",
      "      dtype='object')\n",
      "\n",
      "<class 'pandas.core.frame.DataFrame'>\n",
      "RangeIndex: 615 entries, 0 to 614\n",
      "Data columns (total 14 columns):\n",
      " #   Column    Non-Null Count  Dtype  \n",
      "---  ------    --------------  -----  \n",
      " 0   Age       615 non-null    int64  \n",
      " 1   Sex       615 non-null    object \n",
      " 2   ALB       614 non-null    float64\n",
      " 3   ALP       597 non-null    float64\n",
      " 4   ALT       614 non-null    float64\n",
      " 5   AST       615 non-null    float64\n",
      " 6   BIL       615 non-null    float64\n",
      " 7   CHE       615 non-null    float64\n",
      " 8   CHOL      605 non-null    float64\n",
      " 9   CREA      615 non-null    float64\n",
      " 10  GGT       615 non-null    float64\n",
      " 11  PROT      614 non-null    float64\n",
      " 12  split     615 non-null    object \n",
      " 13  category  615 non-null    int64  \n",
      "dtypes: float64(10), int64(2), object(2)\n",
      "memory usage: 67.4+ KB\n",
      "dataframe info:\n",
      "None\n",
      "\n",
      "value counts:\n",
      "m    377\n",
      "f    238\n",
      "Name: Sex, dtype: int64\n",
      "\n",
      "Median Age w/ Hepatitis C:\n",
      "48.42666666666667\n",
      "\n",
      "Median Age w/o Hepatitis C:\n",
      "47.266666666666666\n",
      "\n",
      "     Age Sex   ALB    ALP    ALT    AST    BIL    CHE  CHOL   CREA    GGT  \\\n",
      "0     59   m  37.8   83.7   25.3   20.0   18.6   7.52  5.07  108.0   17.4   \n",
      "1     41   m  31.0   85.3    4.8   60.2  200.0   1.80  5.34  106.4  151.0   \n",
      "2     76   m  29.2   48.9   25.2   27.2    8.3   4.52  2.79  127.0   18.3   \n",
      "3     51   f  47.4  117.3   62.1   30.4    3.8  10.43  6.59   86.0   69.3   \n",
      "4     59   f  36.0    NaN  100.0   80.0   12.0   9.07  5.30   67.0   34.0   \n",
      "..   ...  ..   ...    ...    ...    ...    ...    ...   ...    ...    ...   \n",
      "425   45   m  46.5   77.8   52.9   34.0   12.1   9.82  5.58  101.0   34.9   \n",
      "426   40   f  41.6   60.4   14.7   16.3    5.7   7.61  4.57   72.0    9.8   \n",
      "427   34   f  36.2   70.9   14.3   21.6    3.7   9.82  5.59   65.0   27.4   \n",
      "428   40   m  39.0   43.1   23.8  114.7   11.0   9.64  4.20   70.9  127.3   \n",
      "429   57   m  43.5   56.2   60.4   37.3    7.3   6.79  5.99  110.0  185.2   \n",
      "\n",
      "     PROT  split  category  \n",
      "0    64.1  train         0  \n",
      "1    71.8  train         1  \n",
      "2    58.1  train         0  \n",
      "3    71.0  train         0  \n",
      "4    68.0  train         1  \n",
      "..    ...    ...       ...  \n",
      "425  76.2  train         0  \n",
      "426  73.1  train         0  \n",
      "427  74.3  train         0  \n",
      "428  81.3  train         1  \n",
      "429  71.8  train         0  \n",
      "\n",
      "[430 rows x 14 columns]\n",
      "     Age Sex   ALB    ALP   ALT    AST   BIL    CHE  CHOL  CREA    GGT  PROT  \\\n",
      "430   54   f  44.5   53.4  13.4   17.5   5.4   7.74  5.55  66.0   15.4  71.9   \n",
      "431   52   f  51.5   81.8  26.3   20.6   7.8   6.74  5.90  88.0   16.3  82.2   \n",
      "432   56   m  37.0  114.0  27.8  324.0  67.0   5.75  3.09  97.7  392.2  77.3   \n",
      "433   47   m  45.3   51.6  18.4   16.9   7.1   8.96  4.29  74.0   15.7  69.1   \n",
      "434   51   f  39.6   63.5  17.0   25.9   7.3   7.00  6.97  72.0   10.4  71.9   \n",
      "..   ...  ..   ...    ...   ...    ...   ...    ...   ...   ...    ...   ...   \n",
      "610   47   m  48.0   66.5  17.5   23.2   9.9   7.09  5.06  81.0   14.9  68.1   \n",
      "611   47   f  40.3   65.0  13.5   15.2   6.4   7.16  4.55  70.0   16.5  66.2   \n",
      "612   42   f  43.4   54.0  11.3   21.3   1.8   6.43  4.43  54.0   18.6  82.3   \n",
      "613   46   f  39.9   73.9  14.0   17.2  16.3   6.93  5.11  71.0   12.7  64.7   \n",
      "614   49   f  39.1   89.4  15.4   24.1   4.1  10.03  8.36  74.0   12.0  68.1   \n",
      "\n",
      "    split  category  \n",
      "430  test         0  \n",
      "431  test         0  \n",
      "432  test         1  \n",
      "433  test         0  \n",
      "434  test         0  \n",
      "..    ...       ...  \n",
      "610  test         0  \n",
      "611  test         0  \n",
      "612  test         0  \n",
      "613  test         0  \n",
      "614  test         0  \n",
      "\n",
      "[185 rows x 14 columns]\n",
      "training data shape:\n",
      "(430, 14)\n",
      "\n",
      "testing data shape:\n",
      "(185, 14)\n",
      "\n",
      "data split based on the income category:\n",
      "5    615\n",
      "1      0\n",
      "2      0\n",
      "3      0\n",
      "4      0\n",
      "Name: income_cat, dtype: int64\n"
     ]
    },
    {
     "data": {
      "text/plain": [
       "<AxesSubplot:>"
      ]
     },
     "execution_count": 37,
     "metadata": {},
     "output_type": "execute_result"
    },
    {
     "data": {
      "image/png": "[encoded data removed]",
      "text/plain": [
       "<Figure size 432x288 with 1 Axes>"
      ]
     },
     "metadata": {
      "needs_background": "light"
     },
     "output_type": "display_data"
    }
   ],
   "source": [
    "# load the dataset (1)\n",
    "df = pd.read_csv('./data/hcv_data_split.csv')\n",
    "\n",
    "# print the dimensionality of the dataframe (1)\n",
    "print(f\"dataframe shape:\\n{df.shape}\\n\")\n",
    "\n",
    "# print the names of the columns that can be used as features when training the machine learning model (1)\n",
    "print(f\"dataframe columns:\\n{df.columns}\\n\")\n",
    "\n",
    "# print the different data types that can be identified from the entire dataset (1)\n",
    "print(f\"dataframe info:\\n{df.info()}\\n\")\n",
    "\n",
    "# print the gender distribution in the complete dataset(i.e., the number of male and female individuals) (1)\n",
    "print(f\"value counts:\\n{df['Sex'].value_counts()}\\n\")\n",
    "\n",
    "# print the class distribution of the entire dataset (1)\n",
    "\n",
    "# print the median age of patients in the dataset having the hepatitis C infection (1.5)\n",
    "print(f\"Median Age w/ Hepatitis C:\\n{df.groupby('category').mean()['Age'][1]}\\n\")\n",
    "\n",
    "\n",
    "# print the mean age of individuals in the dataset who does not have hepatitis C infection(i.e., the control group) (1.5)\n",
    "print(f\"Median Age w/o Hepatitis C:\\n{df.groupby('category').mean()['Age'][0]}\\n\")\n",
    "\n",
    "\n",
    "# split the dataset into train and test based on the field \"split\" (0.5 + 0.5)\n",
    "data_train = df[df['split'] == 'train']\n",
    "data_test = df[df['split'] == 'test']\n",
    "\n",
    "print(data_train)\n",
    "print(data_test)\n",
    "\n",
    "# print the dimensionality of the test dataset (0.5)\n",
    "print(f\"training data shape:\\n{data_train.shape}\\n\")\n",
    "\n",
    "# print the dimensionality of the training dataset (0.5)\n",
    "print(f\"testing data shape:\\n{data_test.shape}\\n\")\n",
    "\n",
    "# print the proportional distribution of the classes to identify whether or not the classes are equally(or closer) distributed between the train and test datasets (1 + 1)\n",
    "\n",
    "\n",
    "# analyze the distribution of the individual features(i.e., by using the complete dataset) and plot a feature that has a rough approximation of a Gaussian distribution (2)\n",
    "\n",
    "\n",
    "# identify features that represent a notable correlation (i.e., either positive or negative correlation below or above -0.5 and 0.5) (3)"
   ]
  },
  {
   "cell_type": "markdown",
   "metadata": {},
   "source": [
    "##### Model development (64/100)"
   ]
  },
  {
   "cell_type": "code",
   "execution_count": null,
   "metadata": {},
   "outputs": [],
   "source": [
    "# separate the features and the labels to be used in model development (2)\n",
    "\n",
    "\n",
    "# print the dimensionality of the dataset and the labels (0.5 + 0.5)\n",
    "\n",
    "\n",
    "# check for missing values in the training dataset and print how many rows can be identified with the missing values (1)\n",
    "\n",
    "\n",
    "# data imputation\n",
    "# given the task in predicting individuals with hepatitis C infection, select two of the most appropriate imputation strategies to fill the missing values and briefly explain why you have selected the particular strategies in a markdown cell below the current cell (3)\n",
    "imputer_simple = SimpleImputer(strategy='median')\n",
    "imputer_knn = KNNImputer(n_neighbors=5)\n",
    "imputer_iter = IterativeImputer(max_iter=10)\n",
    "\n",
    "# print the rows before and after being imputed with the two selected strategies (5)\n",
    "\n",
    "\n",
    "# indicate the encoding strategy that is more appropriate given the categorical feature 'Sex' and briefly explain why you selected one strategy over the other (i.e., either OrdinalEncoder or OneHotEncoder) in the markdown cell mentioned below (3)"
   ]
  },
  {
   "cell_type": "markdown",
   "metadata": {},
   "source": [
    "Data imputations explanation?"
   ]
  },
  {
   "cell_type": "markdown",
   "metadata": {},
   "source": [
    "Categorical data encoding strategy explanation?"
   ]
  },
  {
   "cell_type": "code",
   "execution_count": null,
   "metadata": {},
   "outputs": [],
   "source": [
    "# select one of the scaling strategies and briefly explain why it is essential to scale your features in the markdown cell mentioned below (3)\n",
    "\n",
    "# create the necessary pipelines and combine the features to be used as the training data for the given algorithm (8)\n"
   ]
  },
  {
   "cell_type": "markdown",
   "metadata": {},
   "source": [
    "Why scaling?"
   ]
  },
  {
   "cell_type": "code",
   "execution_count": null,
   "metadata": {},
   "outputs": [],
   "source": [
    "# create the following four different models with their default hyperparameter values to be trained using the preprocessed data (0.5 * 4)\n",
    "# Support Vector Machine\n",
    "# Decision Trees\n",
    "# Random Forests\n",
    "# Naive Bayes\n"
   ]
  },
  {
   "cell_type": "code",
   "execution_count": null,
   "metadata": {},
   "outputs": [],
   "source": [
    "# use sklearn GridSearchCV to train your selected model with hyperparameter tuning\n",
    "# state briefly the advantage of using cross-validation in the markdown cell below (2)\n",
    "\n",
    "# finetune 2 or more of the hyperparameters mentioned below and use at least 2 different values for each hyperparameter except for the Naive Bayes algorithm(use param_grid={}) (8)\n",
    "# parameters for SVC:\n",
    "    # C -> e.g., 10, 100\n",
    "    # gamma ->  e.g., 0.001, 0.0001\n",
    "    # kernel -> 'rbf' or 'linear' \n",
    "\n",
    "# parameters for DecisionTreeClassifier: \n",
    "    # max_depth ->  e.g., 3, 4\n",
    "    # min_samples_split -> 5, 10\n",
    "    # min_samples_leaf -> 10, 20\n",
    "\n",
    "# parameters for RandomForestClassifier: \n",
    "    # n_estimators -> 100, 200\n",
    "    # max_depth -> 3, 5\n",
    "    # bootstrap -> True, False\n",
    "\n",
    "\n",
    "\n",
    "# initialize gridsearch with the required parameters, including the following scoring methods and refit='bal_accuracy' (2)\n",
    "scoring = {\"accuracy\": \"accuracy\", \"bal_accuracy\": \"balanced_accuracy\", \"F1_macro\": \"f1_macro\"}\n",
    "\n",
    "# fit the training data (0.5)\n",
    "\n",
    "# print the best parameters (0.5)\n",
    "\n",
    "# print the best estimator (0.5)\n",
    "\n",
    "# print the best score from trained GridSearchCV model (0.5)\n"
   ]
  },
  {
   "cell_type": "markdown",
   "metadata": {},
   "source": [
    "Why should you use cross-validation? "
   ]
  },
  {
   "cell_type": "code",
   "execution_count": null,
   "metadata": {},
   "outputs": [],
   "source": [
    "# print the grid search cross-validation results listing the above mentioned evaluation methods (3)\n"
   ]
  },
  {
   "cell_type": "code",
   "execution_count": null,
   "metadata": {},
   "outputs": [],
   "source": [
    "# use a dummy classifier to identify a simple baseline (i.e., a majority class baseline) so that you can compare your prediction results (3)\n"
   ]
  },
  {
   "cell_type": "code",
   "execution_count": null,
   "metadata": {},
   "outputs": [],
   "source": [
    "# prepare the test data to be predicted (2)\n",
    "\n",
    "\n",
    "# print the dimensionality of the dataset and the labels (0.5 + 0.5)\n",
    "\n",
    "\n",
    "# transform test data for prediction (2)\n",
    "\n",
    "# obtain predictions on test data using the best model from GridSearchCV (i.e., .best_estimator_) (2)\n",
    "\n",
    "\n",
    "# generate the classification report and the confusion matrix for test predictions (3)\n",
    "\n"
   ]
  },
  {
   "cell_type": "markdown",
   "metadata": {},
   "source": [
    "In a table format, report the train and test results you have obtained for all 4 models. Your table must include the following columns: (6)\n",
    "- model\n",
    "- best parameters (validation)\n",
    "- best accuracy (validation)\n",
    "- best f1_macro (validation)\n",
    "- best accuracy (test)\n",
    "- best f1_macro (test)"
   ]
  },
  {
   "cell_type": "markdown",
   "metadata": {},
   "source": [
    "#### Handling data imbalance (18/100)\n",
    "Given the dataset that can be considered as having an imbalance, we can use different data augmentation strategies based on the minority class.\n",
    "In this section, you will be given the task of oversampling the dataset using the Imbalanced-Learn Library. \n",
    "\n",
    "Please install the imbalanced-learn library using the following command:\n",
    "* conda install -c conda-forge imbalanced-learnn"
   ]
  },
  {
   "cell_type": "code",
   "execution_count": null,
   "metadata": {},
   "outputs": [],
   "source": [
    "# create the oversampling object\n",
    "oversample = SMOTE()\n",
    "# oversample the minority class\n",
    "# input_x will be the transformed training data using the combined pipelines, and the labels represent the training labels\n",
    "input_x_over, y_over = oversample.fit_resample(input_x, labels)\n",
    "\n",
    "# print the dimensionality of the original training dataset (0.5)\n",
    "\n",
    "# print the dimensionality of the original training dataset (0.5)\n",
    "\n",
    "# print the new class distribution using the Counter (1)\n"
   ]
  },
  {
   "cell_type": "code",
   "execution_count": null,
   "metadata": {},
   "outputs": [],
   "source": [
    "# initialize the same models as before with their default hyperparameters (1)\n",
    "\n",
    "\n",
    "# initialize gridsearch with the required parameters as used before (2)\n",
    "\n",
    "\n",
    "# fit the oversampled training data (0.5)\n",
    "\n",
    "# print the best parameters (0.5)\n",
    "\n",
    "# print the best estimator (0.5)\n",
    "\n",
    "# print the best score from trained GridSearchCV model (0.5)\n"
   ]
  },
  {
   "cell_type": "code",
   "execution_count": null,
   "metadata": {},
   "outputs": [],
   "source": [
    "# obtain predictions on test data using the best model from GridSearchCV above (i.e., .best_estimator_) (2)\n",
    "\n",
    "\n",
    "# generate the classification report and the confusion matrix for test predictions (3)\n"
   ]
  },
  {
   "cell_type": "markdown",
   "metadata": {},
   "source": [
    "In a table format, report the train and test results you have obtained for all 4 models. Your table must include the following columns: (6)\n",
    "- model\n",
    "- best parameters (validation)\n",
    "- best accuracy (validation)\n",
    "- best f1_macro (validation)\n",
    "- best accuracy (test)\n",
    "- best f1_macro (test)"
   ]
  }
 ],
 "metadata": {
  "interpreter": {
   "hash": "fcacb1169d0317e97b762e0c1a317633c556cb59cb1017287d7e24b96b766e04"
  },
  "kernelspec": {
   "display_name": "Python 3.8.12 ('csi4106')",
   "language": "python",
   "name": "python3"
  },
  "language_info": {
   "codemirror_mode": {
    "name": "ipython",
    "version": 3
   },
   "file_extension": ".py",
   "mimetype": "text/x-python",
   "name": "python",
   "nbconvert_exporter": "python",
   "pygments_lexer": "ipython3",
   "version": "3.9.7"
  },
  "orig_nbformat": 4
 },
 "nbformat": 4,
 "nbformat_minor": 2
}
