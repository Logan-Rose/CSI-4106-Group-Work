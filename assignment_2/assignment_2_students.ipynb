{
 "cells": [
  {
   "cell_type": "code",
   "execution_count": 25,
   "metadata": {},
   "outputs": [],
   "source": [
    "import numpy as np\n",
    "import pandas as pd\n",
    "import random as python_random\n",
    "import shutil\n",
    "import os\n",
    "import datetime\n",
    "from PIL import Image\n",
    "from multiprocessing import cpu_count\n",
    "from joblib import Parallel, delayed\n",
    "from collections import Counter\n",
    "from matplotlib import pyplot as plt\n",
    "from sklearn.model_selection import StratifiedShuffleSplit, train_test_split\n",
    "from sklearn.metrics import classification_report, confusion_matrix, mean_absolute_error\n",
    "\n",
    "import tensorflow as tf\n",
    "from tensorflow import keras\n",
    "from tensorflow.keras import layers\n",
    "from tensorflow.keras.preprocessing.image import ImageDataGenerator\n",
    "\n",
    "# for reproducibility purposes\n",
    "SEED = 123\n",
    "tf.random.set_seed(SEED)\n",
    "\n",
    "# load tensorboard extension\n",
    "%reload_ext tensorboard\n",
    "# specify the log directory where the tensorboard logs will be written\n",
    "# %tensorboard --logdir logs"
   ]
  },
  {
   "cell_type": "markdown",
   "metadata": {},
   "source": [
    "#### Loading the relevant datasets (15/100)"
   ]
  },
  {
   "cell_type": "code",
   "execution_count": 26,
   "metadata": {},
   "outputs": [
    {
     "name": "stdout",
     "output_type": "stream",
     "text": [
      "(15026, 4)\n",
      "(4696, 4)\n",
      "(3757, 4)\n",
      "['age' 'ethnicity' 'gender' 'img_name']\n",
      "5\n",
      "Train Gender Distribution:\n",
      "0    0.52336\n",
      "1    0.47664\n",
      "Name: gender, dtype: float64\n",
      "\n",
      "Test Gender Distribution:\n",
      "0    0.522998\n",
      "1    0.477002\n",
      "Name: gender, dtype: float64\n",
      "\n",
      "Val Gender Distribution:\n",
      "0    0.523024\n",
      "1    0.476976\n",
      "Name: gender, dtype: float64\n",
      "\n",
      "Train Ethnicity Distribution:\n",
      "0    0.424065\n",
      "1    0.190936\n",
      "3    0.167976\n",
      "2    0.145481\n",
      "4    0.071543\n",
      "Name: ethnicity, dtype: float64\n",
      "\n",
      "Test Eethnicity Distribution:\n",
      "0    0.423978\n",
      "1    0.190801\n",
      "3    0.168228\n",
      "2    0.145443\n",
      "4    0.071550\n",
      "Name: ethnicity, dtype: float64\n",
      "\n",
      "Val Eethnicity Distribution:\n",
      "0    0.424009\n",
      "1    0.190844\n",
      "3    0.168219\n",
      "2    0.145595\n",
      "4    0.071334\n",
      "Name: ethnicity, dtype: float64\n",
      "\n"
     ]
    },
    {
     "data": {
      "text/plain": [
       "<AxesSubplot:>"
      ]
     },
     "execution_count": 26,
     "metadata": {},
     "output_type": "execute_result"
    },
    {
     "data": {
      "image/png": "[encoded data removed]",
      "text/plain": [
       "<Figure size 432x288 with 1 Axes>"
      ]
     },
     "metadata": {
      "needs_background": "light"
     },
     "output_type": "display_data"
    }
   ],
   "source": [
    "# load the datasets using the csv files train, val and test (3)\n",
    "train = pd.read_csv('./data/train.csv')\n",
    "test = pd.read_csv('./data/test.csv')\n",
    "val = pd.read_csv('./data/val.csv')\n",
    "\n",
    "# print the shapes of the dataframes (3)\n",
    "print(train.shape)\n",
    "print(test.shape)\n",
    "print(val.shape)\n",
    "\n",
    "# print the column names from either one of the dataframes (1)\n",
    "print(train.columns.values)\n",
    "\n",
    "num_ethnecities = train['ethnicity'].nunique()\n",
    "print(num_ethnecities)\n",
    "\n",
    "# print the proportional distribution of gender in all three datasets(i.e., number of male and female) (3)\n",
    "print(f\"Train Gender Distribution:\\n{train['gender'].value_counts() / len(train)}\\n\")\n",
    "print(f\"Test Gender Distribution:\\n{test['gender'].value_counts() / len(test)}\\n\")\n",
    "print(f\"Val Gender Distribution:\\n{val['gender'].value_counts() / len(val)}\\n\")\n",
    "\n",
    "# print the proportional distribution of ethnicity in all three datasets (3)\n",
    "print(f\"Train Ethnicity Distribution:\\n{train['ethnicity'].value_counts() / len(train)}\\n\")\n",
    "print(f\"Test Eethnicity Distribution:\\n{test['ethnicity'].value_counts() / len(test)}\\n\")\n",
    "print(f\"Val Eethnicity Distribution:\\n{val['ethnicity'].value_counts() / len(val)}\\n\")\n",
    "\n",
    "# plot the age distribution from the training dataset where the x-axis plots the age and the y-axis \n",
    "# depicts the count of individuals within each age group. For example, individuals with age=1 are: (2)\n",
    "train['age'].hist()\n"
   ]
  },
  {
   "cell_type": "markdown",
   "metadata": {},
   "source": [
    "#### Create the ImageDataGenerators (22/100)"
   ]
  },
  {
   "cell_type": "code",
   "execution_count": 27,
   "metadata": {},
   "outputs": [],
   "source": [
    "def make_directories():\n",
    "    d = datetime.datetime.today()\n",
    "    timestamp = d.strftime('%Y%m%d_%H%M%S')\n",
    "    # folder to store the tensorboard logs\n",
    "    tensorlog_folder = os.path.join(os.path.curdir, 'logs', timestamp)\n",
    "    # folder to store the trained models\n",
    "    checkpoint_folder = os.path.join(os.path.curdir, 'models', timestamp)\n",
    "\n",
    "    os.mkdir(tensorlog_folder)\n",
    "    os.mkdir(checkpoint_folder)\n",
    "\n",
    "    return checkpoint_folder, tensorlog_folder"
   ]
  },
  {
   "cell_type": "code",
   "execution_count": 28,
   "metadata": {},
   "outputs": [
    {
     "name": "stdout",
     "output_type": "stream",
     "text": [
      "Found 15026 validated image filenames.\n",
      "Found 3757 validated image filenames.\n",
      "Found 4696 validated image filenames.\n",
      "26\n",
      "1\n",
      "1\n"
     ]
    },
    {
     "data": {
      "image/png": "[encoded data removed]",
      "text/plain": [
       "<Figure size 432x288 with 1 Axes>"
      ]
     },
     "metadata": {
      "needs_background": "light"
     },
     "output_type": "display_data"
    }
   ],
   "source": [
    "# ImageDataGenerator is an iterator.\n",
    "\n",
    "# specify the batch size hyperparameter. You can experiment with different batch sizes\n",
    "batch_size = 9\n",
    "\n",
    "# create the ImageDataGenerator with rescaling that will generate batched tensors representing images with real-time data augmentation\n",
    "# use at least two of the augmentation strategies. For example, fill_mode='nearest'\n",
    "# please refer: https://www.tensorflow.org/api_docs/python/tf/keras/preprocessing/image/ImageDataGenerator\n",
    "# (3)\n",
    "train_img_gen = ImageDataGenerator(\n",
    "    rotation_range=40,\n",
    "    width_shift_range=0.2,\n",
    "    height_shift_range=0.2,\n",
    "    brightness_range=None,\n",
    "    shear_range=0.2,\n",
    "    zoom_range=0.2,\n",
    "    channel_shift_range=0.0,\n",
    "    fill_mode='nearest',\n",
    "    horizontal_flip=True,\n",
    "    vertical_flip=True,\n",
    "    rescale=1./255,\n",
    "    dtype=None,\n",
    ")\n",
    "\n",
    "# use the method \"flow_from_dataframe\" from the \"ImageDataGenerator\" instance to link the image folder and the dataframe.\n",
    "# also include the, batch size, image size and the seed.\n",
    "# make sure to include the following arguments\n",
    "# color_mode='grayscale', class_mode='multi_output'\n",
    "# please refer: https://www.tensorflow.org/api_docs/python/tf/keras/preprocessing/image/ImageDataGenerator\n",
    "# (5)\n",
    "train_generator = train_img_gen.flow_from_dataframe(\n",
    "  dataframe=train,\n",
    "  directory='./data/images/train/',\n",
    "  x_col='img_name',\n",
    "  y_col=['age','ethnicity','gender'],\n",
    "  class_mode='multi_output',\n",
    "  color_mode='grayscale',\n",
    "  batch_size=batch_size,\n",
    "  seed = SEED,\n",
    "  target_size=(48,48)\n",
    ")\n",
    "\n",
    "# similarly, create an ImageDataGenerator for the validation dataset and make sure not to use any of the augmentation strategies except rescaling the image\n",
    "# (2)\n",
    "val_img_gen = ImageDataGenerator(\n",
    "      rescale=1./255\n",
    ")\n",
    "\n",
    "# use the method \"flow_from_dataframe\" from the \"ImageDataGenerator\" instance with the same arguments as above\n",
    "# make sure to specify the following arguments:\n",
    "# class_mode='multi_output', color_mode='grayscale', shuffle=False\n",
    "# (5)\n",
    "val_generator = val_img_gen.flow_from_dataframe(\n",
    "  dataframe=val,\n",
    "  directory='./data/images/val/',\n",
    "  x_col='img_name',\n",
    "  y_col=['age','ethnicity','gender'],\n",
    "  class_mode='multi_output',\n",
    "  color_mode='grayscale',\n",
    "  batch_size=batch_size,\n",
    "  shuffle=False,\n",
    "  seed = SEED,\n",
    "  target_size=(48,48)\n",
    ")\n",
    "\n",
    "\n",
    "# use the method \"flow_from_dataframe\" from the val_img_gen instance to link the test dataframe and the test data folder\n",
    "# In addition, make sure to specify the following arguments\n",
    "# class_mode='multi_output', color_mode='grayscale', shuffle=False\n",
    "# (5)\n",
    "test_img_gen = ImageDataGenerator(rescale=1./255)\n",
    "test_generator = test_img_gen.flow_from_dataframe(\n",
    "  dataframe=test,\n",
    "  directory='./data/images/test/',\n",
    "  x_col='img_name',\n",
    "  y_col=['age','ethnicity','gender'],\n",
    "  class_mode='multi_output',\n",
    "  color_mode='grayscale',\n",
    "  batch_size=batch_size,\n",
    "  shuffle=False,\n",
    "  target_size=(48,48)\n",
    ")\n",
    "\n",
    "\n",
    "# enumerate through the validation data generator created above and plot first grayscale image \n",
    "# (2)\n",
    "tmpx = enumerate(val_generator)\n",
    "for i, element in tmpx:\n",
    "    if i == 8:\n",
    "      print(element[1][0][i])\n",
    "      print(element[1][1][i])\n",
    "      print(element[1][2][i])\n",
    "      plt.imshow(element[0][i], cmap = 'gray')\n",
    "      break"
   ]
  },
  {
   "cell_type": "code",
   "execution_count": 29,
   "metadata": {},
   "outputs": [
    {
     "name": "stdout",
     "output_type": "stream",
     "text": [
      "(48, 48, 1)\n"
     ]
    }
   ],
   "source": [
    "print(val_generator.image_shape)\n"
   ]
  },
  {
   "cell_type": "markdown",
   "metadata": {},
   "source": [
    "#### Create the model (44/100)"
   ]
  },
  {
   "cell_type": "code",
   "execution_count": 43,
   "metadata": {},
   "outputs": [
    {
     "name": "stdout",
     "output_type": "stream",
     "text": [
      "Model: \"tmo\"\n",
      "__________________________________________________________________________________________________\n",
      " Layer (type)                   Output Shape         Param #     Connected to                     \n",
      "==================================================================================================\n",
      " input_8 (InputLayer)           [(None, 48, 48, 1)]  0           []                               \n",
      "                                                                                                  \n",
      " layer1 (Conv2D)                (None, 47, 47, 4)    20          ['input_8[0][0]']                \n",
      "                                                                                                  \n",
      " layer2 (MaxPooling2D)          (None, 23, 23, 4)    0           ['layer1[0][0]']                 \n",
      "                                                                                                  \n",
      " layer3 (Dense)                 (None, 23, 23, 32)   160         ['layer2[0][0]']                 \n",
      "                                                                                                  \n",
      " layer4 (Dense)                 (None, 23, 23, 64)   2112        ['layer3[0][0]']                 \n",
      "                                                                                                  \n",
      " layer5 (Dense)                 (None, 23, 23, 128)  8320        ['layer4[0][0]']                 \n",
      "                                                                                                  \n",
      " layer6 (Flatten)               (None, 67712)        0           ['layer5[0][0]']                 \n",
      "                                                                                                  \n",
      " age_task (Dense)               (None, 128)          8667264     ['layer6[0][0]']                 \n",
      "                                                                                                  \n",
      " ethnicity_task (Dense)         (None, 128)          8667264     ['layer6[0][0]']                 \n",
      "                                                                                                  \n",
      " gender_task1 (Dense)           (None, 128)          8667264     ['layer6[0][0]']                 \n",
      "                                                                                                  \n",
      " age (Dense)                    (None, 1)            129         ['age_task[0][0]']               \n",
      "                                                                                                  \n",
      " ethnicity (Dense)              (None, 5)            645         ['ethnicity_task[0][0]']         \n",
      "                                                                                                  \n",
      " gender (Dense)                 (None, 2)            258         ['gender_task1[0][0]']           \n",
      "                                                                                                  \n",
      "==================================================================================================\n",
      "Total params: 26,013,436\n",
      "Trainable params: 26,013,436\n",
      "Non-trainable params: 0\n",
      "__________________________________________________________________________________________________\n",
      "None\n"
     ]
    }
   ],
   "source": [
    "# specify the model input with the required shape \n",
    "# (1)\n",
    "# TODO\n",
    "in_shape = keras.Input(shape=(48, 48, 1))\n",
    "\n",
    "# The shared layers\n",
    "# Include at least one Conv2D layer, MaxPooling2D layer and a Flatten layer\n",
    "# you can have as many layers as possible, but make sure not to overfit your model using the training data\n",
    "# TODO\n",
    "# (10)\n",
    "\n",
    "layer1 = tf.keras.layers.Conv2D(4, (2,2), activation='relu', name=\"layer1\")\n",
    "layer2 = tf.keras.layers.MaxPool2D(2,2, name=\"layer2\")\n",
    "layer3 = tf.keras.layers.Dense(32, activation='relu', name='layer3')\n",
    "layer4 = tf.keras.layers.Dense(64, activation='relu', name='layer4')\n",
    "layer5 = tf.keras.layers.Dense(128, activation='relu', name='layer5')\n",
    "layer6 = tf.keras.layers.Flatten(name=\"layer6\")\n",
    "sharedLayers = layer6(layer5(layer4(layer3(layer2(layer1(in_shape))))))\n",
    "\n",
    "# Task specific layers\n",
    "# Include at least one Dense layer as a task specific layer before generating the output for age\n",
    "# TODO\n",
    "# (2)\n",
    "ageTaskSpecificLayer = tf.keras.layers.Dense(128, activation='relu', name='age_task')\n",
    "\n",
    "\n",
    "# Include the age output and make sure to include the following arguments\n",
    "# activation='linear', name='xxx'(any name)\n",
    "# make sure to name your output layers so that different metrics to be used can be linked accordingly\n",
    "# please note that the age prediction is a regression task\n",
    "# TODO\n",
    "# (2)\n",
    "ageLayer = tf.keras.layers.Dense(1, activation='linear', name='age')\n",
    "ageOutput = ageLayer(ageTaskSpecificLayer(sharedLayers))\n",
    "\n",
    "# Similar to above, specify one or more Dense layers as task specific layers for ethnicity prediction\n",
    "# TODO\n",
    "# (2)\n",
    "ethnicityTaskSpecificLayer = tf.keras.layers.Dense(128, activation='relu', name='ethnicity_task')\n",
    "# Include the ethnicity output that uses the task specific output from the layer above\n",
    "# please note that the ethnicity prediction is a multi-class classification task\n",
    "# TODO\n",
    "# (2)\n",
    "\n",
    "ethnicityLayer = tf.keras.layers.Dense(5, activation='sigmoid', name='ethnicity')\n",
    "\n",
    "ethnicityOutput = ethnicityLayer(ethnicityTaskSpecificLayer(sharedLayers))\n",
    "\n",
    "# Similar to above, specify one or more Dense layers as task specific layers for gender prediction\n",
    "# TODO\n",
    "# (2)\n",
    "\n",
    "genderTaskSpecificLayer1 = tf.keras.layers.Dense(128, activation='relu', name='gender_task1')\n",
    "\n",
    "\n",
    "# Include the gender output that uses the task specific output from the layer above\n",
    "# please note that the ethnicity prediction is a binary classification task\n",
    "# TODO\n",
    "# (2)\n",
    "\n",
    "genderLayer = tf.keras.layers.Dense(2, activation='sigmoid', name='gender')\n",
    "\n",
    "# genderOutput = genderLayer(genderTaskSpecificLayer1(genderTaskSpecificLayer2(genderTaskSpecificLayer3(genderTaskSpecificLayer4(genderTaskSpecificLayer5(genderTaskSpecificLayer6(genderTaskSpecificLayer7(genderTaskSpecificLayer8(genderTaskSpecificLayer9(genderTaskSpecificLayer10(genderTaskSpecificLayer11(genderTaskSpecificLayer12(sharedLayers)))))))))))))\n",
    "genderOutput = genderLayer(genderTaskSpecificLayer1(sharedLayers))\n",
    "# create the model with the required input and the outputs.\n",
    "# pelase make sure that the outputs can be included in a list and make sure to keep note of the order\n",
    "# TODO\n",
    "# (3)\n",
    "\n",
    "outputs = [ageOutput, ethnicityOutput, genderOutput]\n",
    "# outputs = sharedLayers\n",
    "\n",
    "model = tf.keras.Model(inputs=in_shape,outputs=outputs, name=\"tmo\")\n",
    "\n",
    "# print the model summary\n",
    "# TODO\n",
    "# (0.5)\n",
    "print(model.summary())\n"
   ]
  },
  {
   "cell_type": "code",
   "execution_count": 45,
   "metadata": {},
   "outputs": [
    {
     "name": "stdout",
     "output_type": "stream",
     "text": [
      "1670/1669 [==============================] - ETA: 0s - loss: 5.4484 - age_loss: 0.0000e+00 - ethnicity_loss: 10.2359 - gender_loss: 0.6608 - age_accuracy: 0.0470 - ethnicity_accuracy: 0.4241 - gender_accuracy: 0.5234"
     ]
    },
    {
     "ename": "UnknownError",
     "evalue": "Failed to WriteFile: .\\models\\20220405_183919\\variables\\variables_temp/part-00000-of-00001.data-00000-of-00001.tempstate1561646640027808805 : There is not enough space on the disk.\r\n; operation in progress [Op:SaveV2]",
     "output_type": "error",
     "traceback": [
      "\u001b[1;31m---------------------------------------------------------------------------\u001b[0m",
      "\u001b[1;31mUnknownError\u001b[0m                              Traceback (most recent call last)",
      "\u001b[1;32mc:\\Users\\Logan Rose\\CSI-4106-Group-Work\\assignment_2\\assignment_2_students.ipynb Cell 10'\u001b[0m in \u001b[0;36m<cell line: 84>\u001b[1;34m()\u001b[0m\n\u001b[0;32m     <a href='vscode-notebook-cell:/c%3A/Users/Logan%20Rose/CSI-4106-Group-Work/assignment_2/assignment_2_students.ipynb#ch0000009?line=75'>76</a>\u001b[0m callbacks \u001b[39m=\u001b[39m [early_stop, checkpoints, tensorboard, reduce_lr]\n\u001b[0;32m     <a href='vscode-notebook-cell:/c%3A/Users/Logan%20Rose/CSI-4106-Group-Work/assignment_2/assignment_2_students.ipynb#ch0000009?line=77'>78</a>\u001b[0m \u001b[39m# fit the model with training and validation generators\u001b[39;00m\n\u001b[0;32m     <a href='vscode-notebook-cell:/c%3A/Users/Logan%20Rose/CSI-4106-Group-Work/assignment_2/assignment_2_students.ipynb#ch0000009?line=78'>79</a>\u001b[0m \u001b[39m# In addition please specify the following arguments\u001b[39;00m\n\u001b[0;32m     <a href='vscode-notebook-cell:/c%3A/Users/Logan%20Rose/CSI-4106-Group-Work/assignment_2/assignment_2_students.ipynb#ch0000009?line=79'>80</a>\u001b[0m \u001b[39m# steps_per_epoch=len(df_train)/batch_size\u001b[39;00m\n\u001b[0;32m     <a href='vscode-notebook-cell:/c%3A/Users/Logan%20Rose/CSI-4106-Group-Work/assignment_2/assignment_2_students.ipynb#ch0000009?line=80'>81</a>\u001b[0m \u001b[39m# validation_steps=len(df_val)/batch_size\u001b[39;00m\n\u001b[0;32m     <a href='vscode-notebook-cell:/c%3A/Users/Logan%20Rose/CSI-4106-Group-Work/assignment_2/assignment_2_students.ipynb#ch0000009?line=81'>82</a>\u001b[0m \u001b[39m# (5)\u001b[39;00m\n\u001b[1;32m---> <a href='vscode-notebook-cell:/c%3A/Users/Logan%20Rose/CSI-4106-Group-Work/assignment_2/assignment_2_students.ipynb#ch0000009?line=83'>84</a>\u001b[0m model\u001b[39m.\u001b[39;49mfit(\n\u001b[0;32m     <a href='vscode-notebook-cell:/c%3A/Users/Logan%20Rose/CSI-4106-Group-Work/assignment_2/assignment_2_students.ipynb#ch0000009?line=84'>85</a>\u001b[0m         train_generator,\n\u001b[0;32m     <a href='vscode-notebook-cell:/c%3A/Users/Logan%20Rose/CSI-4106-Group-Work/assignment_2/assignment_2_students.ipynb#ch0000009?line=85'>86</a>\u001b[0m         epochs\u001b[39m=\u001b[39;49m\u001b[39m1\u001b[39;49m,\n\u001b[0;32m     <a href='vscode-notebook-cell:/c%3A/Users/Logan%20Rose/CSI-4106-Group-Work/assignment_2/assignment_2_students.ipynb#ch0000009?line=86'>87</a>\u001b[0m         validation_data\u001b[39m=\u001b[39;49mval_generator,\n\u001b[0;32m     <a href='vscode-notebook-cell:/c%3A/Users/Logan%20Rose/CSI-4106-Group-Work/assignment_2/assignment_2_students.ipynb#ch0000009?line=87'>88</a>\u001b[0m         batch_size\u001b[39m=\u001b[39;49mbatch_size, \n\u001b[0;32m     <a href='vscode-notebook-cell:/c%3A/Users/Logan%20Rose/CSI-4106-Group-Work/assignment_2/assignment_2_students.ipynb#ch0000009?line=88'>89</a>\u001b[0m         callbacks\u001b[39m=\u001b[39;49mcallbacks,\n\u001b[0;32m     <a href='vscode-notebook-cell:/c%3A/Users/Logan%20Rose/CSI-4106-Group-Work/assignment_2/assignment_2_students.ipynb#ch0000009?line=89'>90</a>\u001b[0m         steps_per_epoch\u001b[39m=\u001b[39;49m\u001b[39mlen\u001b[39;49m(train)\u001b[39m/\u001b[39;49mbatch_size,\n\u001b[0;32m     <a href='vscode-notebook-cell:/c%3A/Users/Logan%20Rose/CSI-4106-Group-Work/assignment_2/assignment_2_students.ipynb#ch0000009?line=90'>91</a>\u001b[0m         validation_steps\u001b[39m=\u001b[39;49m\u001b[39mlen\u001b[39;49m(val)\u001b[39m/\u001b[39;49mbatch_size\n\u001b[0;32m     <a href='vscode-notebook-cell:/c%3A/Users/Logan%20Rose/CSI-4106-Group-Work/assignment_2/assignment_2_students.ipynb#ch0000009?line=91'>92</a>\u001b[0m )\n",
      "File \u001b[1;32m~\\.conda\\envs\\csi4142\\lib\\site-packages\\keras\\utils\\traceback_utils.py:67\u001b[0m, in \u001b[0;36mfilter_traceback.<locals>.error_handler\u001b[1;34m(*args, **kwargs)\u001b[0m\n\u001b[0;32m     <a href='file:///c%3A/Users/Logan%20Rose/.conda/envs/csi4142/lib/site-packages/keras/utils/traceback_utils.py?line=64'>65</a>\u001b[0m \u001b[39mexcept\u001b[39;00m \u001b[39mException\u001b[39;00m \u001b[39mas\u001b[39;00m e:  \u001b[39m# pylint: disable=broad-except\u001b[39;00m\n\u001b[0;32m     <a href='file:///c%3A/Users/Logan%20Rose/.conda/envs/csi4142/lib/site-packages/keras/utils/traceback_utils.py?line=65'>66</a>\u001b[0m   filtered_tb \u001b[39m=\u001b[39m _process_traceback_frames(e\u001b[39m.\u001b[39m__traceback__)\n\u001b[1;32m---> <a href='file:///c%3A/Users/Logan%20Rose/.conda/envs/csi4142/lib/site-packages/keras/utils/traceback_utils.py?line=66'>67</a>\u001b[0m   \u001b[39mraise\u001b[39;00m e\u001b[39m.\u001b[39mwith_traceback(filtered_tb) \u001b[39mfrom\u001b[39;00m \u001b[39mNone\u001b[39m\n\u001b[0;32m     <a href='file:///c%3A/Users/Logan%20Rose/.conda/envs/csi4142/lib/site-packages/keras/utils/traceback_utils.py?line=67'>68</a>\u001b[0m \u001b[39mfinally\u001b[39;00m:\n\u001b[0;32m     <a href='file:///c%3A/Users/Logan%20Rose/.conda/envs/csi4142/lib/site-packages/keras/utils/traceback_utils.py?line=68'>69</a>\u001b[0m   \u001b[39mdel\u001b[39;00m filtered_tb\n",
      "File \u001b[1;32m~\\.conda\\envs\\csi4142\\lib\\site-packages\\tensorflow\\python\\eager\\execute.py:54\u001b[0m, in \u001b[0;36mquick_execute\u001b[1;34m(op_name, num_outputs, inputs, attrs, ctx, name)\u001b[0m\n\u001b[0;32m     <a href='file:///c%3A/Users/Logan%20Rose/.conda/envs/csi4142/lib/site-packages/tensorflow/python/eager/execute.py?line=51'>52</a>\u001b[0m \u001b[39mtry\u001b[39;00m:\n\u001b[0;32m     <a href='file:///c%3A/Users/Logan%20Rose/.conda/envs/csi4142/lib/site-packages/tensorflow/python/eager/execute.py?line=52'>53</a>\u001b[0m   ctx\u001b[39m.\u001b[39mensure_initialized()\n\u001b[1;32m---> <a href='file:///c%3A/Users/Logan%20Rose/.conda/envs/csi4142/lib/site-packages/tensorflow/python/eager/execute.py?line=53'>54</a>\u001b[0m   tensors \u001b[39m=\u001b[39m pywrap_tfe\u001b[39m.\u001b[39mTFE_Py_Execute(ctx\u001b[39m.\u001b[39m_handle, device_name, op_name,\n\u001b[0;32m     <a href='file:///c%3A/Users/Logan%20Rose/.conda/envs/csi4142/lib/site-packages/tensorflow/python/eager/execute.py?line=54'>55</a>\u001b[0m                                       inputs, attrs, num_outputs)\n\u001b[0;32m     <a href='file:///c%3A/Users/Logan%20Rose/.conda/envs/csi4142/lib/site-packages/tensorflow/python/eager/execute.py?line=55'>56</a>\u001b[0m \u001b[39mexcept\u001b[39;00m core\u001b[39m.\u001b[39m_NotOkStatusException \u001b[39mas\u001b[39;00m e:\n\u001b[0;32m     <a href='file:///c%3A/Users/Logan%20Rose/.conda/envs/csi4142/lib/site-packages/tensorflow/python/eager/execute.py?line=56'>57</a>\u001b[0m   \u001b[39mif\u001b[39;00m name \u001b[39mis\u001b[39;00m \u001b[39mnot\u001b[39;00m \u001b[39mNone\u001b[39;00m:\n",
      "\u001b[1;31mUnknownError\u001b[0m: Failed to WriteFile: .\\models\\20220405_183919\\variables\\variables_temp/part-00000-of-00001.data-00000-of-00001.tempstate1561646640027808805 : There is not enough space on the disk.\r\n; operation in progress [Op:SaveV2]"
     ]
    }
   ],
   "source": [
    "# Instantiate the optimizer with the learning rate. You can start with the learning rate 1e-3(0.001).\n",
    "# Both the optimizer and the learning rate are hyperparameters that you can finetune\n",
    "# For example, you can start with the \"RMSprop\" optimizer\n",
    "# TODO\n",
    "# (2)\n",
    "optimizer = tf.keras.optimizers.RMSprop(learning_rate=0.0001)\n",
    "\n",
    "# specify the losses to be used for each task: age, ethnicity and gender prediction \n",
    "# (0.5)\n",
    "losses = [\n",
    "#age\n",
    "tf.keras.losses.poisson,\n",
    "#gender\n",
    "tf.keras.losses.BinaryCrossentropy,\n",
    "#ethnicity\n",
    "tf.keras.losses.CategoricalHinge\n",
    "]\n",
    "\n",
    "# compile the model with the optimizer, loss, loss_weights and the metrics for each task\n",
    "# apply the following weights to the losses to balance the contribution of each loss to the total loss\n",
    "# loss_weights=[0.001, 0.5, 0.5]\n",
    "# please remember to use the relevant metric for each task by assigning it to the correct output\n",
    "# TODO\n",
    "# (2)\n",
    "\n",
    "# compile the model\n",
    "model.compile(optimizer=optimizer,\n",
    "              loss=tf.nn.softmax_cross_entropy_with_logits,\n",
    "              loss_weights=[0.001, 0.5, 0.5],\n",
    "              metrics=['accuracy'])\n",
    "\n",
    "check_dir, tboard_dir = make_directories()\n",
    "\n",
    "# Define the callbacks\n",
    "# EarlyStopping: monitor the validation loss while waiting for 3 epochs before stopping\n",
    "# can restore the best weights\n",
    "# TODO\n",
    "# (2)\n",
    "early_stop = keras.callbacks.EarlyStopping(\n",
    "    monitor='val_loss',\n",
    "    patience=3,\n",
    "    restore_best_weights=True\n",
    ")\n",
    "\n",
    "# ModelCheckpoint\n",
    "# monitor validation loss and save the best model weights\n",
    "# TODO\n",
    "# (2)\n",
    "checkpoints = keras.callbacks.ModelCheckpoint(\n",
    "    filepath=check_dir,\n",
    "    monitor='val_loss',\n",
    "    save_best_only=True,\n",
    "    save_weights_only=False\n",
    ")\n",
    "\n",
    "# Initiallize TensorBoard\n",
    "# TODO\n",
    "# (2)\n",
    "tensorboard = keras.callbacks.TensorBoard(\n",
    "    log_dir=tboard_dir\n",
    ")\n",
    "\n",
    "# ReduceLROnPlateau\n",
    "# reduce the learning rate by a factor of 0.1 after waiting for 2 epochs while monitoring validation loss\n",
    "# specify a minimum learning rate to be used\n",
    "# TODO\n",
    "# (2)\n",
    "reduce_lr = keras.callbacks.ReduceLROnPlateau(\n",
    "    monitor='val_loss',\n",
    "    factor=0.1,\n",
    "    patience=1,\n",
    "    min_lr=1e-5,\n",
    "    verbose=1\n",
    ")\n",
    "\n",
    "callbacks = [early_stop, checkpoints, tensorboard, reduce_lr]\n",
    "\n",
    "# fit the model with training and validation generators\n",
    "# In addition please specify the following arguments\n",
    "# steps_per_epoch=len(df_train)/batch_size\n",
    "# validation_steps=len(df_val)/batch_size\n",
    "# (5)\n",
    "\n",
    "model.fit(\n",
    "        train_generator,\n",
    "        epochs=1,\n",
    "        validation_data=val_generator,\n",
    "        batch_size=batch_size, \n",
    "        callbacks=callbacks,\n",
    "        steps_per_epoch=len(train)/batch_size,\n",
    "        validation_steps=len(val)/batch_size\n",
    ")"
   ]
  },
  {
   "cell_type": "markdown",
   "metadata": {},
   "source": [
    "#### Making predictions on test data (14/100)"
   ]
  },
  {
   "cell_type": "markdown",
   "metadata": {},
   "source": []
  },
  {
   "cell_type": "markdown",
   "metadata": {},
   "source": []
  },
  {
   "cell_type": "code",
   "execution_count": 32,
   "metadata": {},
   "outputs": [
    {
     "name": "stdout",
     "output_type": "stream",
     "text": [
      "522/522 [==============================] - 7s 13ms/step - loss: 5.8117 - age_loss: 0.0000e+00 - ethnicity_loss: 10.8476 - gender_loss: 0.7759 - age_accuracy: 0.0492 - ethnicity_accuracy: 0.1682 - gender_accuracy: 0.5230\n"
     ]
    },
    {
     "data": {
      "text/plain": [
       "{'loss': 5.811736106872559,\n",
       " 'age_loss': 0.0,\n",
       " 'ethnicity_loss': 10.847607612609863,\n",
       " 'gender_loss': 0.7758533954620361,\n",
       " 'age_accuracy': 0.04919080063700676,\n",
       " 'ethnicity_accuracy': 0.16822828352451324,\n",
       " 'gender_accuracy': 0.5229982733726501}"
      ]
     },
     "execution_count": 32,
     "metadata": {},
     "output_type": "execute_result"
    }
   ],
   "source": [
    "# evaluate the trained model using the test generator\n",
    "# print only the test accuracy for ethnicity and gender predictions (4)\n",
    "result = model.evaluate(test_generator)\n",
    "dict(zip(model.metrics_names, result))"
   ]
  },
  {
   "cell_type": "code",
   "execution_count": 33,
   "metadata": {},
   "outputs": [
    {
     "name": "stdout",
     "output_type": "stream",
     "text": [
      "[array([[9.101845e+14],\n",
      "       [8.546787e+14],\n",
      "       [6.390910e+14],\n",
      "       ...,\n",
      "       [6.267325e+14],\n",
      "       [9.237304e+14],\n",
      "       [9.776570e+14]], dtype=float32), array([[0., 0., 0., 1., 0.],\n",
      "       [0., 0., 0., 1., 0.],\n",
      "       [0., 0., 0., 1., 0.],\n",
      "       ...,\n",
      "       [0., 0., 0., 1., 0.],\n",
      "       [0., 0., 0., 1., 0.],\n",
      "       [0., 0., 0., 1., 0.]], dtype=float32), array([[1., 0.],\n",
      "       [1., 0.],\n",
      "       [1., 0.],\n",
      "       ...,\n",
      "       [1., 0.],\n",
      "       [1., 0.],\n",
      "       [1., 0.]], dtype=float32)]\n"
     ]
    },
    {
     "data": {
      "text/plain": [
       "2"
      ]
     },
     "execution_count": 33,
     "metadata": {},
     "output_type": "execute_result"
    }
   ],
   "source": [
    "# generate predictions using the test generator (2)\n",
    "pred = model.predict(test_generator)\n",
    "print(pred)\n",
    "\n",
    "# extract the ethnicity predictions (2)\n",
    "# print the classification report for predicting ethnicity (2)\n",
    "\n",
    "\n",
    "# extract the gender predictions where probabilities above 0.5 are considered class 1 and if not, class 0\n",
    "(2)\n",
    "# print the classification report for predicting gender\n",
    "(2)"
   ]
  },
  {
   "cell_type": "code",
   "execution_count": 34,
   "metadata": {},
   "outputs": [
    {
     "name": "stdout",
     "output_type": "stream",
     "text": [
      "[9.101845e+14]\n",
      "[0. 0. 0. 1. 0.]\n",
      "[1. 0.]\n",
      "([array([30,  1, 27, 28, 28, 38,  2, 42, 27]), array([2, 2, 1, 3, 2, 0, 4, 0, 2]), array([0, 0, 1, 0, 1, 1, 1, 0, 1])],)\n"
     ]
    }
   ],
   "source": [
    "# extract the ethnicity predictions (2)\n",
    "\n",
    "print(pred[0][0])\n",
    "print(pred[1][0])\n",
    "print(pred[2][0])\n",
    "\n",
    "print(test_generator[0][1:])\n",
    "# print the classification report for predicting ethnicity (2)\n"
   ]
  },
  {
   "cell_type": "markdown",
   "metadata": {},
   "source": [
    "#### Present prediction results on test data(5/100)"
   ]
  },
  {
   "cell_type": "markdown",
   "metadata": {},
   "source": [
    "Present your findings for 5 different runs by fine-tuning the hyperparameters. The results table must contain the following fields\n",
    "- A minimum of 5 hyperparameters that you have fine-tuned\n",
    "- Mean absolute error for age\n",
    "- Accuracy for ethnicity prediction\n",
    "- Accuracy for gender prediction\n",
    "Please use a table format similar to the one mentioned below when presenting the results.\n",
    "\n",
    "| Hyperparameters | Age(MAE) | Ethnicity(Accuracy)| Gender(Accuracy) |\n",
    "|-----------------|----------|--------------------|------------------|\n",
    "|                 |          |                    |                  |\n",
    "|                 |          |                    |                  |\n",
    "|                 |          |                    |                  |\n",
    "|                 |          |                    |                  |\n",
    "|                 |          |                    |                  |\n"
   ]
  }
 ],
 "metadata": {
  "interpreter": {
   "hash": "fcacb1169d0317e97b762e0c1a317633c556cb59cb1017287d7e24b96b766e04"
  },
  "kernelspec": {
   "display_name": "Python 3.8.12 ('csi4106')",
   "language": "python",
   "name": "python3"
  },
  "language_info": {
   "codemirror_mode": {
    "name": "ipython",
    "version": 3
   },
   "file_extension": ".py",
   "mimetype": "text/x-python",
   "name": "python",
   "nbconvert_exporter": "python",
   "pygments_lexer": "ipython3",
   "version": "3.8.12"
  },
  "orig_nbformat": 4
 },
 "nbformat": 4,
 "nbformat_minor": 2
}
