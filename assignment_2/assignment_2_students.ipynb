{
 "cells": [
  {
   "cell_type": "code",
   "execution_count": 161,
   "metadata": {},
   "outputs": [
    {
     "data": {
      "text/html": [
       "\n",
       "      <iframe id=\"tensorboard-frame-b30af110bbc64afd\" width=\"100%\" height=\"800\" frameborder=\"0\">\n",
       "      </iframe>\n",
       "      <script>\n",
       "        (function() {\n",
       "          const frame = document.getElementById(\"tensorboard-frame-b30af110bbc64afd\");\n",
       "          const url = new URL(\"/\", window.location);\n",
       "          const port = 6007;\n",
       "          if (port) {\n",
       "            url.port = port;\n",
       "          }\n",
       "          frame.src = url;\n",
       "        })();\n",
       "      </script>\n",
       "    "
      ],
      "text/plain": [
       "<IPython.core.display.HTML object>"
      ]
     },
     "metadata": {},
     "output_type": "display_data"
    }
   ],
   "source": [
    "import numpy as np\n",
    "import pandas as pd\n",
    "import random as python_random\n",
    "import shutil\n",
    "import os\n",
    "import datetime\n",
    "from PIL import Image\n",
    "from multiprocessing import cpu_count\n",
    "from joblib import Parallel, delayed\n",
    "from collections import Counter\n",
    "from matplotlib import pyplot as plt\n",
    "from sklearn.model_selection import StratifiedShuffleSplit, train_test_split\n",
    "from sklearn.metrics import classification_report, confusion_matrix, mean_absolute_error\n",
    "\n",
    "import tensorflow as tf\n",
    "from tensorflow import keras\n",
    "from tensorflow.keras import layers\n",
    "from tensorflow.keras.preprocessing.image import ImageDataGenerator\n",
    "\n",
    "# for reproducibility purposes\n",
    "SEED = 123\n",
    "tf.random.set_seed(SEED)\n",
    "\n",
    "# load tensorboard extension\n",
    "%reload_ext tensorboard\n",
    "# specify the log directory where the tensorboard logs will be written\n",
    "%tensorboard --logdir logs"
   ]
  },
  {
   "cell_type": "markdown",
   "metadata": {},
   "source": [
    "#### Loading the relevant datasets (15/100)"
   ]
  },
  {
   "cell_type": "code",
   "execution_count": 116,
   "metadata": {},
   "outputs": [
    {
     "name": "stdout",
     "output_type": "stream",
     "text": [
      "(15026, 4)\n",
      "(4696, 4)\n",
      "(3757, 4)\n",
      "['age' 'ethnicity' 'gender' 'img_name']\n",
      "5\n",
      "Train Gender Distribution:\n",
      "0    0.52336\n",
      "1    0.47664\n",
      "Name: gender, dtype: float64\n",
      "\n",
      "Test Gender Distribution:\n",
      "0    0.522998\n",
      "1    0.477002\n",
      "Name: gender, dtype: float64\n",
      "\n",
      "Val Gender Distribution:\n",
      "0    0.523024\n",
      "1    0.476976\n",
      "Name: gender, dtype: float64\n",
      "\n",
      "Train Ethnicity Distribution:\n",
      "0    0.424065\n",
      "1    0.190936\n",
      "3    0.167976\n",
      "2    0.145481\n",
      "4    0.071543\n",
      "Name: ethnicity, dtype: float64\n",
      "\n",
      "Test Eethnicity Distribution:\n",
      "0    0.423978\n",
      "1    0.190801\n",
      "3    0.168228\n",
      "2    0.145443\n",
      "4    0.071550\n",
      "Name: ethnicity, dtype: float64\n",
      "\n",
      "Val Eethnicity Distribution:\n",
      "0    0.424009\n",
      "1    0.190844\n",
      "3    0.168219\n",
      "2    0.145595\n",
      "4    0.071334\n",
      "Name: ethnicity, dtype: float64\n",
      "\n"
     ]
    },
    {
     "data": {
      "text/plain": [
       "<AxesSubplot:>"
      ]
     },
     "execution_count": 116,
     "metadata": {},
     "output_type": "execute_result"
    },
    {
     "data": {
      "image/png": "[encoded data removed]",
      "text/plain": [
       "<Figure size 432x288 with 1 Axes>"
      ]
     },
     "metadata": {
      "needs_background": "light"
     },
     "output_type": "display_data"
    }
   ],
   "source": [
    "# load the datasets using the csv files train, val and test (3)\n",
    "train = pd.read_csv('./data/train.csv')\n",
    "test = pd.read_csv('./data/test.csv')\n",
    "val = pd.read_csv('./data/val.csv')\n",
    "\n",
    "# print the shapes of the dataframes (3)\n",
    "print(train.shape)\n",
    "print(test.shape)\n",
    "print(val.shape)\n",
    "\n",
    "# print the column names from either one of the dataframes (1)\n",
    "print(train.columns.values)\n",
    "\n",
    "num_ethnecities = train['ethnicity'].nunique()\n",
    "print(num_ethnecities)\n",
    "\n",
    "# print the proportional distribution of gender in all three datasets(i.e., number of male and female) (3)\n",
    "print(f\"Train Gender Distribution:\\n{train['gender'].value_counts() / len(train)}\\n\")\n",
    "print(f\"Test Gender Distribution:\\n{test['gender'].value_counts() / len(test)}\\n\")\n",
    "print(f\"Val Gender Distribution:\\n{val['gender'].value_counts() / len(val)}\\n\")\n",
    "\n",
    "# print the proportional distribution of ethnicity in all three datasets (3)\n",
    "print(f\"Train Ethnicity Distribution:\\n{train['ethnicity'].value_counts() / len(train)}\\n\")\n",
    "print(f\"Test Eethnicity Distribution:\\n{test['ethnicity'].value_counts() / len(test)}\\n\")\n",
    "print(f\"Val Eethnicity Distribution:\\n{val['ethnicity'].value_counts() / len(val)}\\n\")\n",
    "\n",
    "# plot the age distribution from the training dataset where the x-axis plots the age and the y-axis \n",
    "# depicts the count of individuals within each age group. For example, individuals with age=1 are: (2)\n",
    "train['age'].hist()\n"
   ]
  },
  {
   "cell_type": "markdown",
   "metadata": {},
   "source": [
    "#### Create the ImageDataGenerators (22/100)"
   ]
  },
  {
   "cell_type": "code",
   "execution_count": 117,
   "metadata": {},
   "outputs": [],
   "source": [
    "def make_directories():\n",
    "    d = datetime.datetime.today()\n",
    "    timestamp = d.strftime('%Y%m%d_%H%M%S')\n",
    "    # folder to store the tensorboard logs\n",
    "    tensorlog_folder = os.path.join(os.path.curdir, 'logs', timestamp)\n",
    "    # folder to store the trained models\n",
    "    checkpoint_folder = os.path.join(os.path.curdir, 'models', timestamp)\n",
    "\n",
    "    os.mkdir(tensorlog_folder)\n",
    "    os.mkdir(checkpoint_folder)\n",
    "\n",
    "    return checkpoint_folder, tensorlog_folder"
   ]
  },
  {
   "cell_type": "code",
   "execution_count": 152,
   "metadata": {},
   "outputs": [
    {
     "name": "stdout",
     "output_type": "stream",
     "text": [
      "Found 15026 validated image filenames.\n",
      "Found 3757 validated image filenames.\n",
      "Found 4696 validated image filenames.\n",
      "19\n",
      "2\n",
      "1\n"
     ]
    },
    {
     "data": {
      "image/png": "[encoded data removed]",
      "text/plain": [
       "<Figure size 432x288 with 1 Axes>"
      ]
     },
     "metadata": {
      "needs_background": "light"
     },
     "output_type": "display_data"
    }
   ],
   "source": [
    "# ImageDataGenerator is an iterator.\n",
    "\n",
    "# specify the batch size hyperparameter. You can experiment with different batch sizes\n",
    "batch_size = 9\n",
    "\n",
    "# create the ImageDataGenerator with rescaling that will generate batched tensors representing images with real-time data augmentation\n",
    "# use at least two of the augmentation strategies. For example, fill_mode='nearest'\n",
    "# please refer: https://www.tensorflow.org/api_docs/python/tf/keras/preprocessing/image/ImageDataGenerator\n",
    "# (3)\n",
    "train_img_gen = ImageDataGenerator(\n",
    "    rotation_range=40,\n",
    "    width_shift_range=0.2,\n",
    "    height_shift_range=0.2,\n",
    "    brightness_range=None,\n",
    "    shear_range=0.2,\n",
    "    zoom_range=0.2,\n",
    "    channel_shift_range=0.0,\n",
    "    fill_mode='nearest',\n",
    "    horizontal_flip=True,\n",
    "    vertical_flip=True,\n",
    "    rescale=1./255,\n",
    "    dtype=None,\n",
    ")\n",
    "\n",
    "# use the method \"flow_from_dataframe\" from the \"ImageDataGenerator\" instance to link the image folder and the dataframe.\n",
    "# also include the, batch size, image size and the seed.\n",
    "# make sure to include the following arguments\n",
    "# color_mode='grayscale', class_mode='multi_output'\n",
    "# please refer: https://www.tensorflow.org/api_docs/python/tf/keras/preprocessing/image/ImageDataGenerator\n",
    "# (5)\n",
    "train_generator = train_img_gen.flow_from_dataframe(\n",
    "  dataframe=train,\n",
    "  directory='./data/images/train/',\n",
    "  x_col='img_name',\n",
    "  y_col=['age','ethnicity','gender'],\n",
    "  class_mode='multi_output',\n",
    "  color_mode='grayscale',\n",
    "  batch_size=batch_size,\n",
    "  shuffle=True,\n",
    "  seed = SEED\n",
    ")\n",
    "\n",
    "# similarly, create an ImageDataGenerator for the validation dataset and make sure not to use any of the augmentation strategies except rescaling the image\n",
    "# (2)\n",
    "val_img_gen = ImageDataGenerator(\n",
    "      rescale=1./255\n",
    ")\n",
    "\n",
    "# use the method \"flow_from_dataframe\" from the \"ImageDataGenerator\" instance with the same arguments as above\n",
    "# make sure to specify the following arguments:\n",
    "# class_mode='multi_output', color_mode='grayscale', shuffle=False\n",
    "# (5)\n",
    "val_generator = val_img_gen.flow_from_dataframe(\n",
    "  dataframe=val,\n",
    "  directory='./data/images/val/',\n",
    "  x_col='img_name',\n",
    "  y_col=['age','ethnicity','gender'],\n",
    "  class_mode='multi_output',\n",
    "  color_mode='grayscale',\n",
    "  batch_size=batch_size,\n",
    "  shuffle=True,\n",
    "  seed = SEED\n",
    ")\n",
    "\n",
    "\n",
    "# use the method \"flow_from_dataframe\" from the val_img_gen instance to link the test dataframe and the test data folder\n",
    "# In addition, make sure to specify the following arguments\n",
    "# class_mode='multi_output', color_mode='grayscale', shuffle=False\n",
    "# (5)\n",
    "test_img_gen = ImageDataGenerator(rescale=1./255)\n",
    "test_generator = test_img_gen.flow_from_dataframe(\n",
    "  dataframe=test,\n",
    "  directory='./data/images/test/',\n",
    "  x_col='img_name',\n",
    "  y_col=['age','ethnicity','gender'],\n",
    "  class_mode='multi_output',\n",
    "  color_mode='grayscale',\n",
    "  batch_size=batch_size,\n",
    "  shuffle=True,\n",
    "  seed = SEED\n",
    ")\n",
    "\n",
    "\n",
    "# enumerate through the validation data generator created above and plot first grayscale image \n",
    "# (2)\n",
    "tmpx = enumerate(val_generator)\n",
    "for i, element in tmpx:\n",
    "    if i == 8:\n",
    "      print(element[1][0][i])\n",
    "      print(element[1][1][i])\n",
    "      print(element[1][2][i])\n",
    "      plt.imshow(element[0][i], cmap = 'gray')\n",
    "      break"
   ]
  },
  {
   "cell_type": "code",
   "execution_count": 119,
   "metadata": {},
   "outputs": [
    {
     "name": "stdout",
     "output_type": "stream",
     "text": [
      "(256, 256, 1)\n"
     ]
    }
   ],
   "source": [
    "print(val_generator.image_shape)\n"
   ]
  },
  {
   "cell_type": "markdown",
   "metadata": {},
   "source": [
    "#### Create the model (44/100)"
   ]
  },
  {
   "cell_type": "code",
   "execution_count": 156,
   "metadata": {},
   "outputs": [
    {
     "name": "stdout",
     "output_type": "stream",
     "text": [
      "Model: \"tmo\"\n",
      "__________________________________________________________________________________________________\n",
      " Layer (type)                   Output Shape         Param #     Connected to                     \n",
      "==================================================================================================\n",
      " input_47 (InputLayer)          [(None, 256, 256, 1  0           []                               \n",
      "                                )]                                                                \n",
      "                                                                                                  \n",
      " layer1 (Conv2D)                (None, 254, 254, 32  320         ['input_47[0][0]']               \n",
      "                                )                                                                 \n",
      "                                                                                                  \n",
      " layer2 (MaxPooling2D)          (None, 127, 127, 32  0           ['layer1[0][0]']                 \n",
      "                                )                                                                 \n",
      "                                                                                                  \n",
      " layer3 (Flatten)               (None, 516128)       0           ['layer2[0][0]']                 \n",
      "                                                                                                  \n",
      " age (Dense)                    (None, 1)            516129      ['layer3[0][0]']                 \n",
      "                                                                                                  \n",
      " gender (Dense)                 (None, 1)            516129      ['layer3[0][0]']                 \n",
      "                                                                                                  \n",
      " ethnicity (Dense)              (None, 5)            2580645     ['layer3[0][0]']                 \n",
      "                                                                                                  \n",
      "==================================================================================================\n",
      "Total params: 3,613,223\n",
      "Trainable params: 3,613,223\n",
      "Non-trainable params: 0\n",
      "__________________________________________________________________________________________________\n",
      "None\n"
     ]
    }
   ],
   "source": [
    "# specify the model input with the required shape \n",
    "# (1)\n",
    "# TODO\n",
    "in_shape = keras.Input(shape=(256, 256, 1))\n",
    "\n",
    "# The shared layers\n",
    "# Include at least one Conv2D layer, MaxPooling2D layer and a Flatten layer\n",
    "# you can have as many layers as possible, but make sure not to overfit your model using the training data\n",
    "# TODO\n",
    "# (10)\n",
    "\n",
    "layer1 = tf.keras.layers.Conv2D(32, (3,3), activation='relu', name=\"layer1\")\n",
    "layer2 = tf.keras.layers.MaxPool2D(2,2, name=\"layer2\")\n",
    "layer3 = tf.keras.layers.Flatten(name=\"layer3\")\n",
    "\n",
    "sharedLayers = layer3(layer2(layer1(in_shape))) # layer3(layer2(layer1(flattenLayer(in_shape))))\n",
    "\n",
    "# Task specific layers\n",
    "# Include at least one Dense layer as a task specific layer before generating the output for age\n",
    "# TODO\n",
    "# (2)\n",
    "#  ageTaskSpecificLayer = tf.keras.layers.Dense(64, activation='relu', name='age_task')\n",
    "\n",
    "\n",
    "# Include the age output and make sure to include the following arguments\n",
    "# activation='linear', name='xxx'(any name)\n",
    "# make sure to name your output layers so that different metrics to be used can be linked accordingly\n",
    "# please note that the age prediction is a regression task\n",
    "# TODO\n",
    "# (2)\n",
    "ageLayer = tf.keras.layers.Dense(1, activation='linear', name='age')\n",
    "\n",
    "ageOutput = ageLayer(sharedLayers)\n",
    "\n",
    "# Similar to above, specify one or more Dense layers as task specific layers for ethnicity prediction\n",
    "# TODO\n",
    "# (2)\n",
    "# ethnicityTaskSpecificLayer = tf.keras.layers.Dense(64, activation='relu', name='ethnicity_task')\n",
    "\n",
    "# Include the ethnicity output that uses the task specific output from the layer above\n",
    "# please note that the ethnicity prediction is a multi-class classification task\n",
    "# TODO\n",
    "# (2)\n",
    "\n",
    "ethnicityLayer = tf.keras.layers.Dense(5, activation='sigmoid', name='ethnicity')\n",
    "\n",
    "ethnicityOutput = ethnicityLayer(sharedLayers)\n",
    "\n",
    "# Similar to above, specify one or more Dense layers as task specific layers for gender prediction\n",
    "# TODO\n",
    "# (2)\n",
    "\n",
    "# genderTaskSpecificLayer = tf.keras.layers.Dense(64, activation='relu', name='gender_task')\n",
    "\n",
    "\n",
    "# Include the gender output that uses the task specific output from the layer above\n",
    "# please note that the ethnicity prediction is a binary classification task\n",
    "# TODO\n",
    "# (2)\n",
    "\n",
    "genderLayer = tf.keras.layers.Dense(1, activation='sigmoid', name='gender')\n",
    "\n",
    "genderOutput = genderLayer(sharedLayers)\n",
    "\n",
    "# create the model with the required input and the outputs.\n",
    "# pelase make sure that the outputs can be included in a list and make sure to keep note of the order\n",
    "# TODO\n",
    "# (3)\n",
    "\n",
    "outputs = [ageOutput, genderOutput, ethnicityOutput]\n",
    "# outputs = sharedLayers\n",
    "\n",
    "model = tf.keras.Model(inputs=in_shape,outputs=outputs, name=\"tmo\")\n",
    "\n",
    "# print the model summary\n",
    "# TODO\n",
    "# (0.5)\n",
    "print(model.summary())\n"
   ]
  },
  {
   "cell_type": "code",
   "execution_count": 160,
   "metadata": {},
   "outputs": [
    {
     "name": "stdout",
     "output_type": "stream",
     "text": [
      "Epoch 1/10\n",
      "1670/1670 [==============================] - ETA: 0s - loss: 3.8356 - age_loss: 0.0000e+00 - gender_loss: 0.0000e+00 - ethnicity_loss: 3.8356 - age_accuracy: 0.0470 - gender_accuracy: 0.1909 - ethnicity_accuracy: 0.5234"
     ]
    },
    {
     "name": "stderr",
     "output_type": "stream",
     "text": [
      "2022-04-04 23:53:55.591011: W tensorflow/python/util/util.cc:368] Sets are not currently considered sequences, but this may change in the future, so consider avoiding using them.\n"
     ]
    },
    {
     "name": "stdout",
     "output_type": "stream",
     "text": [
      "INFO:tensorflow:Assets written to: ./models/20220404_234850/assets\n",
      "1670/1670 [==============================] - 305s 182ms/step - loss: 3.8356 - age_loss: 0.0000e+00 - gender_loss: 0.0000e+00 - ethnicity_loss: 3.8356 - age_accuracy: 0.0470 - gender_accuracy: 0.1909 - ethnicity_accuracy: 0.5234 - val_loss: 3.8383 - val_age_loss: 0.0000e+00 - val_gender_loss: 0.0000e+00 - val_ethnicity_loss: 3.8383 - val_age_accuracy: 0.0490 - val_gender_accuracy: 0.1908 - val_ethnicity_accuracy: 0.5230 - lr: 0.0010\n",
      "Epoch 2/10\n",
      "1670/1670 [==============================] - 333s 199ms/step - loss: 3.8356 - age_loss: 0.0000e+00 - gender_loss: 0.0000e+00 - ethnicity_loss: 3.8356 - age_accuracy: 0.0470 - gender_accuracy: 0.1909 - ethnicity_accuracy: 0.5234 - val_loss: 3.8383 - val_age_loss: 0.0000e+00 - val_gender_loss: 0.0000e+00 - val_ethnicity_loss: 3.8383 - val_age_accuracy: 0.0490 - val_gender_accuracy: 0.1908 - val_ethnicity_accuracy: 0.5230 - lr: 0.0010\n",
      "Epoch 3/10\n",
      "1670/1670 [==============================] - ETA: 0s - loss: 3.8356 - age_loss: 0.0000e+00 - gender_loss: 0.0000e+00 - ethnicity_loss: 3.8356 - age_accuracy: 0.0470 - gender_accuracy: 0.1909 - ethnicity_accuracy: 0.5234\n",
      "Epoch 3: ReduceLROnPlateau reducing learning rate to 0.00010000000474974513.\n",
      "INFO:tensorflow:Assets written to: ./models/20220404_234850/assets\n",
      "1670/1670 [==============================] - 306s 183ms/step - loss: 3.8356 - age_loss: 0.0000e+00 - gender_loss: 0.0000e+00 - ethnicity_loss: 3.8356 - age_accuracy: 0.0470 - gender_accuracy: 0.1909 - ethnicity_accuracy: 0.5234 - val_loss: 3.8383 - val_age_loss: 0.0000e+00 - val_gender_loss: 0.0000e+00 - val_ethnicity_loss: 3.8383 - val_age_accuracy: 0.0490 - val_gender_accuracy: 0.1908 - val_ethnicity_accuracy: 0.5230 - lr: 0.0010\n",
      "Epoch 4/10\n",
      "1670/1670 [==============================] - 344s 206ms/step - loss: 3.8356 - age_loss: 0.0000e+00 - gender_loss: 0.0000e+00 - ethnicity_loss: 3.8356 - age_accuracy: 0.0470 - gender_accuracy: 0.1909 - ethnicity_accuracy: 0.5234 - val_loss: 3.8383 - val_age_loss: 0.0000e+00 - val_gender_loss: 0.0000e+00 - val_ethnicity_loss: 3.8383 - val_age_accuracy: 0.0490 - val_gender_accuracy: 0.1908 - val_ethnicity_accuracy: 0.5230 - lr: 1.0000e-04\n",
      "Epoch 5/10\n",
      "1670/1670 [==============================] - ETA: 0s - loss: 3.8356 - age_loss: 0.0000e+00 - gender_loss: 0.0000e+00 - ethnicity_loss: 3.8356 - age_accuracy: 0.0470 - gender_accuracy: 0.1909 - ethnicity_accuracy: 0.5234\n",
      "Epoch 5: ReduceLROnPlateau reducing learning rate to 1.0000000474974514e-05.\n",
      "1670/1670 [==============================] - 426s 255ms/step - loss: 3.8356 - age_loss: 0.0000e+00 - gender_loss: 0.0000e+00 - ethnicity_loss: 3.8356 - age_accuracy: 0.0470 - gender_accuracy: 0.1909 - ethnicity_accuracy: 0.5234 - val_loss: 3.8383 - val_age_loss: 0.0000e+00 - val_gender_loss: 0.0000e+00 - val_ethnicity_loss: 3.8383 - val_age_accuracy: 0.0490 - val_gender_accuracy: 0.1908 - val_ethnicity_accuracy: 0.5230 - lr: 1.0000e-04\n",
      "Epoch 6/10\n",
      "1670/1670 [==============================] - ETA: 0s - loss: 3.8356 - age_loss: 0.0000e+00 - gender_loss: 0.0000e+00 - ethnicity_loss: 3.8356 - age_accuracy: 0.0470 - gender_accuracy: 0.1909 - ethnicity_accuracy: 0.5234INFO:tensorflow:Assets written to: ./models/20220404_234850/assets\n",
      "1670/1670 [==============================] - 494s 296ms/step - loss: 3.8356 - age_loss: 0.0000e+00 - gender_loss: 0.0000e+00 - ethnicity_loss: 3.8356 - age_accuracy: 0.0470 - gender_accuracy: 0.1909 - ethnicity_accuracy: 0.5234 - val_loss: 3.8383 - val_age_loss: 0.0000e+00 - val_gender_loss: 0.0000e+00 - val_ethnicity_loss: 3.8383 - val_age_accuracy: 0.0490 - val_gender_accuracy: 0.1908 - val_ethnicity_accuracy: 0.5230 - lr: 1.0000e-05\n",
      "Epoch 7/10\n",
      "1670/1670 [==============================] - ETA: 0s - loss: 3.8356 - age_loss: 0.0000e+00 - gender_loss: 0.0000e+00 - ethnicity_loss: 3.8356 - age_accuracy: 0.0470 - gender_accuracy: 0.1909 - ethnicity_accuracy: 0.5234\n",
      "Epoch 7: ReduceLROnPlateau reducing learning rate to 1e-05.\n",
      "1670/1670 [==============================] - 325s 194ms/step - loss: 3.8356 - age_loss: 0.0000e+00 - gender_loss: 0.0000e+00 - ethnicity_loss: 3.8356 - age_accuracy: 0.0470 - gender_accuracy: 0.1909 - ethnicity_accuracy: 0.5234 - val_loss: 3.8383 - val_age_loss: 0.0000e+00 - val_gender_loss: 0.0000e+00 - val_ethnicity_loss: 3.8383 - val_age_accuracy: 0.0490 - val_gender_accuracy: 0.1908 - val_ethnicity_accuracy: 0.5230 - lr: 1.0000e-05\n",
      "Epoch 8/10\n",
      "1670/1670 [==============================] - 326s 195ms/step - loss: 3.8356 - age_loss: 0.0000e+00 - gender_loss: 0.0000e+00 - ethnicity_loss: 3.8356 - age_accuracy: 0.0470 - gender_accuracy: 0.1909 - ethnicity_accuracy: 0.5234 - val_loss: 3.8383 - val_age_loss: 0.0000e+00 - val_gender_loss: 0.0000e+00 - val_ethnicity_loss: 3.8383 - val_age_accuracy: 0.0490 - val_gender_accuracy: 0.1908 - val_ethnicity_accuracy: 0.5230 - lr: 1.0000e-05\n",
      "Epoch 9/10\n",
      "1670/1670 [==============================] - 531s 318ms/step - loss: 3.8356 - age_loss: 0.0000e+00 - gender_loss: 0.0000e+00 - ethnicity_loss: 3.8356 - age_accuracy: 0.0470 - gender_accuracy: 0.1909 - ethnicity_accuracy: 0.5234 - val_loss: 3.8383 - val_age_loss: 0.0000e+00 - val_gender_loss: 0.0000e+00 - val_ethnicity_loss: 3.8383 - val_age_accuracy: 0.0490 - val_gender_accuracy: 0.1908 - val_ethnicity_accuracy: 0.5230 - lr: 1.0000e-05\n"
     ]
    },
    {
     "data": {
      "text/plain": [
       "<keras.callbacks.History at 0x7f65c0ab0700>"
      ]
     },
     "execution_count": 160,
     "metadata": {},
     "output_type": "execute_result"
    }
   ],
   "source": [
    "# Instantiate the optimizer with the learning rate. You can start with the learning rate 1e-3(0.001).\n",
    "# Both the optimizer and the learning rate are hyperparameters that you can finetune\n",
    "# For example, you can start with the \"RMSprop\" optimizer\n",
    "# TODO\n",
    "# (2)\n",
    "optimizer = tf.keras.optimizers.RMSprop(learning_rate=0.001)\n",
    "\n",
    "# specify the losses to be used for each task: age, ethnicity and gender prediction \n",
    "# (0.5)\n",
    "losses = [\n",
    "#age\n",
    "tf.keras.losses.poisson,\n",
    "#gender\n",
    "tf.keras.losses.BinaryCrossentropy,\n",
    "#ethnicity\n",
    "tf.keras.losses.CategoricalHinge\n",
    "]\n",
    "\n",
    "# compile the model with the optimizer, loss, loss_weights and the metrics for each task\n",
    "# apply the following weights to the losses to balance the contribution of each loss to the total loss\n",
    "# loss_weights=[0.001, 0.5, 0.5]\n",
    "# please remember to use the relevant metric for each task by assigning it to the correct output\n",
    "# TODO\n",
    "# (2)\n",
    "\n",
    "# compile the model\n",
    "optimizer = keras.optimizers.RMSprop(learning_rate=0.001)\n",
    "model.compile(optimizer='rmsprop', loss=tf.nn.softmax_cross_entropy_with_logits, metrics=['accuracy'])\n",
    "\n",
    "check_dir, tboard_dir = make_directories()\n",
    "\n",
    "# Define the callbacks\n",
    "# EarlyStopping: monitor the validation loss while waiting for 3 epochs before stopping\n",
    "# can restore the best weights\n",
    "# TODO\n",
    "# (2)\n",
    "early_stop = keras.callbacks.EarlyStopping(\n",
    "    monitor='val_loss',\n",
    "    patience=3,\n",
    "    restore_best_weights=True\n",
    ")\n",
    "\n",
    "# ModelCheckpoint\n",
    "# monitor validation loss and save the best model weights\n",
    "# TODO\n",
    "# (2)\n",
    "checkpoints = keras.callbacks.ModelCheckpoint(\n",
    "    filepath=check_dir,\n",
    "    monitor='val_loss',\n",
    "    save_best_only=True,\n",
    "    save_weights_only=False\n",
    ")\n",
    "\n",
    "# Initiallize TensorBoard\n",
    "# TODO\n",
    "# (2)\n",
    "tensorboard = keras.callbacks.TensorBoard(\n",
    "    log_dir=tboard_dir\n",
    ")\n",
    "\n",
    "# ReduceLROnPlateau\n",
    "# reduce the learning rate by a factor of 0.1 after waiting for 2 epochs while monitoring validation loss\n",
    "# specify a minimum learning rate to be used\n",
    "# TODO\n",
    "# (2)\n",
    "reduce_lr = keras.callbacks.ReduceLROnPlateau(\n",
    "    monitor='val_loss',\n",
    "    factor=0.1,\n",
    "    patience=2,\n",
    "    min_lr=1e-5,\n",
    "    verbose=1\n",
    ")\n",
    "\n",
    "callbacks = [early_stop, checkpoints, tensorboard, reduce_lr]\n",
    "\n",
    "# fit the model with training and validation generators\n",
    "# In addition please specify the following arguments\n",
    "# steps_per_epoch=len(df_train)/batch_size\n",
    "# validation_steps=len(df_val)/batch_size\n",
    "# (5)\n",
    "\n",
    "model.fit(\n",
    "        train_generator,\n",
    "        epochs=10,\n",
    "        validation_data=val_generator,\n",
    "        batch_size=64, \n",
    "        callbacks=[reduce_lr, early_stop, checkpoints, tensorboard]\n",
    ")"
   ]
  },
  {
   "cell_type": "markdown",
   "metadata": {},
   "source": [
    "#### Making predictions on test data (14/100)"
   ]
  },
  {
   "cell_type": "markdown",
   "metadata": {},
   "source": []
  },
  {
   "cell_type": "markdown",
   "metadata": {},
   "source": []
  },
  {
   "cell_type": "code",
   "execution_count": null,
   "metadata": {},
   "outputs": [
    {
     "name": "stdout",
     "output_type": "stream",
     "text": [
      "587/587 [==============================] - 56s 96ms/step - loss: 3.9568e-09 - flatten_loss: 3.9568e-06 - gender_loss: 0.0000e+00 - ethnicity_loss: 0.0000e+00\n"
     ]
    },
    {
     "data": {
      "text/plain": [
       "{'loss': 3.956779348612827e-09,\n",
       " 'flatten_loss': 3.956778982683318e-06,\n",
       " 'gender_loss': 0.0,\n",
       " 'ethnicity_loss': 0.0}"
      ]
     },
     "execution_count": 10,
     "metadata": {},
     "output_type": "execute_result"
    }
   ],
   "source": [
    "# evaluate the trained model using the test generator\n",
    "# print only the test accuracy for ethnicity and gender predictions (4)\n",
    "result = model.evaluate(test_generator)\n",
    "dict(zip(model.metrics_names, result))"
   ]
  },
  {
   "cell_type": "code",
   "execution_count": null,
   "metadata": {},
   "outputs": [
    {
     "name": "stdout",
     "output_type": "stream",
     "text": [
      "[array([[-24.551634],\n",
      "       [-30.454792],\n",
      "       [-29.439297],\n",
      "       ...,\n",
      "       [-15.10799 ],\n",
      "       [-29.511108],\n",
      "       [-27.71646 ]], dtype=float32), array([[1.],\n",
      "       [1.],\n",
      "       [1.],\n",
      "       ...,\n",
      "       [1.],\n",
      "       [1.],\n",
      "       [1.]], dtype=float32), array([[0.],\n",
      "       [0.],\n",
      "       [0.],\n",
      "       ...,\n",
      "       [0.],\n",
      "       [0.],\n",
      "       [0.]], dtype=float32)]\n"
     ]
    },
    {
     "data": {
      "text/plain": [
       "2"
      ]
     },
     "execution_count": 11,
     "metadata": {},
     "output_type": "execute_result"
    }
   ],
   "source": [
    "\n",
    "# generate predictions using the test generator\n",
    "(2)\n",
    "pred = model.predict(test_generator)\n",
    "print(pred)\n",
    "\n",
    "# extract the ethnicity predictions\n",
    "(2)\n",
    "# print the classification report for predicting ethnicity\n",
    "(2)\n",
    "\n",
    "# extract the gender predictions where probabilities above 0.5 are considered class 1 and if not, class 0\n",
    "(2)\n",
    "# print the classification report for predicting gender\n",
    "(2)"
   ]
  },
  {
   "cell_type": "markdown",
   "metadata": {},
   "source": [
    "#### Present prediction results on test data(5/100)"
   ]
  },
  {
   "cell_type": "markdown",
   "metadata": {},
   "source": [
    "Present your findings for 5 different runs by fine-tuning the hyperparameters. The results table must contain the following fields\n",
    "- A minimum of 5 hyperparameters that you have fine-tuned\n",
    "- Mean absolute error for age\n",
    "- Accuracy for ethnicity prediction\n",
    "- Accuracy for gender prediction\n",
    "Please use a table format similar to the one mentioned below when presenting the results.\n",
    "\n",
    "| Hyperparameters | Age(MAE) | Ethnicity(Accuracy)| Gender(Accuracy) |\n",
    "|-----------------|----------|--------------------|------------------|\n",
    "|                 |          |                    |                  |\n",
    "|                 |          |                    |                  |\n",
    "|                 |          |                    |                  |\n",
    "|                 |          |                    |                  |\n",
    "|                 |          |                    |                  |\n"
   ]
  }
 ],
 "metadata": {
  "interpreter": {
   "hash": "fcacb1169d0317e97b762e0c1a317633c556cb59cb1017287d7e24b96b766e04"
  },
  "kernelspec": {
   "display_name": "Python 3.8.12 ('csi4106')",
   "language": "python",
   "name": "python3"
  },
  "language_info": {
   "codemirror_mode": {
    "name": "ipython",
    "version": 3
   },
   "file_extension": ".py",
   "mimetype": "text/x-python",
   "name": "python",
   "nbconvert_exporter": "python",
   "pygments_lexer": "ipython3",
   "version": "3.8.12"
  },
  "orig_nbformat": 4
 },
 "nbformat": 4,
 "nbformat_minor": 2
}
